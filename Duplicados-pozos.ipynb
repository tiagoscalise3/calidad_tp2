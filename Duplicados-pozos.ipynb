{
 "cells": [
  {
   "cell_type": "code",
   "execution_count": 1,
   "id": "b00d060e-e717-435d-988d-0c5fa19548b3",
   "metadata": {},
   "outputs": [
    {
     "name": "stdout",
     "output_type": "stream",
     "text": [
      "Requirement already satisfied: geopandas in ./.fury/fury_venv/lib/python3.9/site-packages (1.0.1)\n",
      "Requirement already satisfied: pandas>=1.4.0 in ./.fury/fury_venv/lib/python3.9/site-packages (from geopandas) (2.2.2)\n",
      "Requirement already satisfied: pyogrio>=0.7.2 in ./.fury/fury_venv/lib/python3.9/site-packages (from geopandas) (0.10.0)\n",
      "Requirement already satisfied: pyproj>=3.3.0 in ./.fury/fury_venv/lib/python3.9/site-packages (from geopandas) (3.6.1)\n",
      "Requirement already satisfied: numpy>=1.22 in ./.fury/fury_venv/lib/python3.9/site-packages (from geopandas) (2.0.2)\n",
      "Requirement already satisfied: shapely>=2.0.0 in ./.fury/fury_venv/lib/python3.9/site-packages (from geopandas) (2.0.6)\n",
      "Requirement already satisfied: packaging in ./.fury/fury_venv/lib/python3.9/site-packages (from geopandas) (24.1)\n",
      "Requirement already satisfied: python-dateutil>=2.8.2 in ./.fury/fury_venv/lib/python3.9/site-packages (from pandas>=1.4.0->geopandas) (2.9.0.post0)\n",
      "Requirement already satisfied: tzdata>=2022.7 in ./.fury/fury_venv/lib/python3.9/site-packages (from pandas>=1.4.0->geopandas) (2024.1)\n",
      "Requirement already satisfied: pytz>=2020.1 in ./.fury/fury_venv/lib/python3.9/site-packages (from pandas>=1.4.0->geopandas) (2024.2)\n",
      "Requirement already satisfied: certifi in ./.fury/fury_venv/lib/python3.9/site-packages (from pyogrio>=0.7.2->geopandas) (2023.11.17)\n",
      "Requirement already satisfied: six>=1.5 in ./.fury/fury_venv/lib/python3.9/site-packages (from python-dateutil>=2.8.2->pandas>=1.4.0->geopandas) (1.16.0)\n",
      "\u001b[33mWARNING: You are using pip version 21.2.4; however, version 24.3.1 is available.\n",
      "You should consider upgrading via the '/Users/cerodriguez/.fury/fury_venv/bin/python3 -m pip install --upgrade pip' command.\u001b[0m\n",
      "Requirement already satisfied: matplotlib in ./.fury/fury_venv/lib/python3.9/site-packages (3.9.2)\n",
      "Requirement already satisfied: importlib-resources>=3.2.0 in ./.fury/fury_venv/lib/python3.9/site-packages (from matplotlib) (6.4.0)\n",
      "Requirement already satisfied: numpy>=1.23 in ./.fury/fury_venv/lib/python3.9/site-packages (from matplotlib) (2.0.2)\n",
      "Requirement already satisfied: pyparsing>=2.3.1 in ./.fury/fury_venv/lib/python3.9/site-packages (from matplotlib) (3.1.2)\n",
      "Requirement already satisfied: packaging>=20.0 in ./.fury/fury_venv/lib/python3.9/site-packages (from matplotlib) (24.1)\n",
      "Requirement already satisfied: pillow>=8 in ./.fury/fury_venv/lib/python3.9/site-packages (from matplotlib) (11.0.0)\n",
      "Requirement already satisfied: python-dateutil>=2.7 in ./.fury/fury_venv/lib/python3.9/site-packages (from matplotlib) (2.9.0.post0)\n",
      "Requirement already satisfied: kiwisolver>=1.3.1 in ./.fury/fury_venv/lib/python3.9/site-packages (from matplotlib) (1.4.7)\n",
      "Requirement already satisfied: fonttools>=4.22.0 in ./.fury/fury_venv/lib/python3.9/site-packages (from matplotlib) (4.54.1)\n",
      "Requirement already satisfied: cycler>=0.10 in ./.fury/fury_venv/lib/python3.9/site-packages (from matplotlib) (0.12.1)\n",
      "Requirement already satisfied: contourpy>=1.0.1 in ./.fury/fury_venv/lib/python3.9/site-packages (from matplotlib) (1.3.0)\n",
      "Requirement already satisfied: zipp>=3.1.0 in ./.fury/fury_venv/lib/python3.9/site-packages (from importlib-resources>=3.2.0->matplotlib) (3.19.2)\n",
      "Requirement already satisfied: six>=1.5 in ./.fury/fury_venv/lib/python3.9/site-packages (from python-dateutil>=2.7->matplotlib) (1.16.0)\n",
      "\u001b[33mWARNING: You are using pip version 21.2.4; however, version 24.3.1 is available.\n",
      "You should consider upgrading via the '/Users/cerodriguez/.fury/fury_venv/bin/python3 -m pip install --upgrade pip' command.\u001b[0m\n",
      "Requirement already satisfied: geopy in ./.fury/fury_venv/lib/python3.9/site-packages (2.4.1)\n",
      "Requirement already satisfied: geographiclib<3,>=1.52 in ./.fury/fury_venv/lib/python3.9/site-packages (from geopy) (2.0)\n",
      "\u001b[33mWARNING: You are using pip version 21.2.4; however, version 24.3.1 is available.\n",
      "You should consider upgrading via the '/Users/cerodriguez/.fury/fury_venv/bin/python3 -m pip install --upgrade pip' command.\u001b[0m\n",
      "Requirement already satisfied: plotly in ./.fury/fury_venv/lib/python3.9/site-packages (5.24.1)\n",
      "Requirement already satisfied: packaging in ./.fury/fury_venv/lib/python3.9/site-packages (from plotly) (24.1)\n",
      "Requirement already satisfied: tenacity>=6.2.0 in ./.fury/fury_venv/lib/python3.9/site-packages (from plotly) (9.0.0)\n",
      "\u001b[33mWARNING: You are using pip version 21.2.4; however, version 24.3.1 is available.\n",
      "You should consider upgrading via the '/Users/cerodriguez/.fury/fury_venv/bin/python3 -m pip install --upgrade pip' command.\u001b[0m\n"
     ]
    }
   ],
   "source": [
    "!pip install geopandas\n",
    "!pip install matplotlib\n",
    "!pip install geopy\n",
    "!pip install plotly\n",
    "import geopandas as gpd\n",
    "import pandas as pd\n",
    "import matplotlib.pyplot as plt\n",
    "from matplotlib import cm\n",
    "import numpy as np"
   ]
  },
  {
   "cell_type": "code",
   "execution_count": 77,
   "id": "17ac9957-4d7f-46c4-9e95-fdeb660670c2",
   "metadata": {},
   "outputs": [
    {
     "name": "stderr",
     "output_type": "stream",
     "text": [
      "/var/folders/r_/x2vzgchn7xg93cptq09838d91bmbgx/T/ipykernel_67648/1101144511.py:2: DtypeWarning: Columns (16,36) have mixed types. Specify dtype option on import or set low_memory=False.\n",
      "  dfPozosProd = pd.read_csv('Downloads/pozos-prod.csv')\n"
     ]
    },
    {
     "name": "stdout",
     "output_type": "stream",
     "text": [
      "818741\n",
      "       idempresa  anio  mes  idpozo  prod_pet  prod_gas  prod_agua  iny_agua  \\\n",
      "0           Z001  2024    1   32186       0.0       0.0        0.0       0.0   \n",
      "1           Z001  2024    1  144117       0.0       0.0        0.0       0.0   \n",
      "2           Z001  2024    1  145614       0.0       0.0        0.0       0.0   \n",
      "3           Z001  2024    1  145615       0.0       0.0        0.0       0.0   \n",
      "4           Z001  2024    1  145626       0.0       0.0        0.0       0.0   \n",
      "...          ...   ...  ...     ...       ...       ...        ...       ...   \n",
      "818736       ACO  2024   10  128659       0.0       0.0        0.0       0.0   \n",
      "818737       ACO  2024   10   71639       0.0       0.0        0.0       0.0   \n",
      "818738       ACO  2024   10   71635       0.0       0.0        0.0       0.0   \n",
      "818739       ACO  2024   10   71638       0.0       0.0        0.0       0.0   \n",
      "818740       ACO  2024   10   71637       0.0       0.0        0.0       0.0   \n",
      "\n",
      "        iny_gas  iny_co2  ...  idareayacimiento  \\\n",
      "0           0.0      0.0  ...              PUSU   \n",
      "1           0.0      0.0  ...              PUSU   \n",
      "2           0.0      0.0  ...              FDRO   \n",
      "3           0.0      0.0  ...              FDRO   \n",
      "4           0.0      0.0  ...               AGR   \n",
      "...         ...      ...  ...               ...   \n",
      "818736      0.0      0.0  ...              VERN   \n",
      "818737      0.0      0.0  ...              VERN   \n",
      "818738      0.0      0.0  ...              VERN   \n",
      "818739      0.0      0.0  ...              VERN   \n",
      "818740      0.0      0.0  ...              VERN   \n",
      "\n",
      "                          areayacimiento    cuenca  provincia tipo_de_recurso  \\\n",
      "0                        PUESTO SURVELIN  NEUQUINA  Rio Negro    CONVENCIONAL   \n",
      "1                        PUESTO SURVELIN  NEUQUINA  Rio Negro    CONVENCIONAL   \n",
      "2                           FLOR DE ROCA  NEUQUINA  Rio Negro    CONVENCIONAL   \n",
      "3                           FLOR DE ROCA  NEUQUINA  Rio Negro    CONVENCIONAL   \n",
      "4                           GENERAL ROCA  NEUQUINA  Rio Negro    CONVENCIONAL   \n",
      "...                                  ...       ...        ...             ...   \n",
      "818736  25 DE MAYO - MEDANITO SUDESTE RN  NEUQUINA  Rio Negro    CONVENCIONAL   \n",
      "818737  25 DE MAYO - MEDANITO SUDESTE RN  NEUQUINA  Rio Negro    CONVENCIONAL   \n",
      "818738  25 DE MAYO - MEDANITO SUDESTE RN  NEUQUINA  Rio Negro    CONVENCIONAL   \n",
      "818739  25 DE MAYO - MEDANITO SUDESTE RN  NEUQUINA  Rio Negro    CONVENCIONAL   \n",
      "818740  25 DE MAYO - MEDANITO SUDESTE RN  NEUQUINA  Rio Negro    CONVENCIONAL   \n",
      "\n",
      "            proyecto clasificacion subclasificacion sub_tipo_recurso  \\\n",
      "0       Sin Proyecto   EXPLORACION      EXPLORACION              NaN   \n",
      "1       Sin Proyecto   EXPLORACION      EXPLORACION              NaN   \n",
      "2       Sin Proyecto   EXPLORACION      EXPLORACION              NaN   \n",
      "3       Sin Proyecto      SERVICIO         SUMIDERO              NaN   \n",
      "4       Sin Proyecto   EXPLORACION      EXPLORACION              NaN   \n",
      "...              ...           ...              ...              ...   \n",
      "818736  Sin Proyecto   EXPLOTACION       DESARROLLO              NaN   \n",
      "818737  Sin Proyecto   EXPLOTACION       DESARROLLO              NaN   \n",
      "818738  Sin Proyecto   EXPLOTACION       DESARROLLO              NaN   \n",
      "818739  Sin Proyecto   EXPLOTACION       DESARROLLO              NaN   \n",
      "818740  Sin Proyecto   EXPLOTACION       DESARROLLO              NaN   \n",
      "\n",
      "        fecha_data  \n",
      "0       2024-01-31  \n",
      "1       2024-01-31  \n",
      "2       2024-01-31  \n",
      "3       2024-01-31  \n",
      "4       2024-01-31  \n",
      "...            ...  \n",
      "818736  2024-10-31  \n",
      "818737  2024-10-31  \n",
      "818738  2024-10-31  \n",
      "818739  2024-10-31  \n",
      "818740  2024-10-31  \n",
      "\n",
      "[818741 rows x 38 columns]\n",
      "818741\n",
      "564711\n"
     ]
    }
   ],
   "source": [
    "# Conteo de cosas con produccion\n",
    "dfPozosProd = pd.read_csv('Downloads/pozos-prod.csv')\n",
    "\n",
    "# # Obtener los países únicos de la columna 'Country'\n",
    "print(len(dfPozosProd))\n",
    "print(dfPozosProd)\n",
    "dfSinProdruccion = dfPozosProd.loc[(dfPozosProd['prod_pet']<= 0) & (dfPozosProd['prod_gas']<=0)]\n",
    "dfPozosConProduccion = dfPozosProd.loc[(dfPozosProd['prod_pet']>0) | (dfPozosProd['prod_gas']>0)]\n",
    "\n",
    "print(len(dfPozosProd))\n",
    "print(len(dfSinProdruccion))"
   ]
  },
  {
   "cell_type": "code",
   "execution_count": 12,
   "id": "1b0ca9b1-30a6-4a3c-a3de-eba5a4cdaaaa",
   "metadata": {},
   "outputs": [],
   "source": [
    "dfPozosConProduccion.to_csv('Downloads/pozos-prod-OK.csv')"
   ]
  },
  {
   "cell_type": "code",
   "execution_count": 13,
   "id": "89a4578f-fa26-4ddf-a3f0-f8d3dc32c0bb",
   "metadata": {},
   "outputs": [],
   "source": [
    "dfSinProdruccion.to_csv('Downloads/pozos-prod-NO-PROD.csv')"
   ]
  },
  {
   "cell_type": "code",
   "execution_count": 14,
   "id": "be05fb8e-4338-46b7-bf04-8de068541b74",
   "metadata": {},
   "outputs": [],
   "source": [
    "# Cargo info de Capitulo IV Pozos\n",
    "dfPozosInfo = pd.read_csv('Downloads/pozos.csv')\n"
   ]
  },
  {
   "cell_type": "code",
   "execution_count": 80,
   "id": "504e4200-2d80-4617-81bd-70491a36c099",
   "metadata": {},
   "outputs": [
    {
     "name": "stdout",
     "output_type": "stream",
     "text": [
      "       idempresa  anio  mes  idpozo    prod_pet   prod_gas    prod_agua  \\\n",
      "0            YPF  2024    1  162223    3.080000   1.230000     2.460000   \n",
      "1            YPF  2024    1  162222  169.320000  67.870000   135.190000   \n",
      "2            YPF  2024    1  162221  135.460000  54.300000   108.160000   \n",
      "3            YPF  2024    1  162220   64.400000   1.720000   132.790000   \n",
      "4            YPF  2024    1  162188  257.570000   5.770000   629.950000   \n",
      "...          ...   ...  ...     ...         ...        ...          ...   \n",
      "254025       ACO  2024   10   71725   55.636854  14.561571   142.463768   \n",
      "254026       ACO  2024   10  127447   78.133030  14.218152  1867.720154   \n",
      "254027       ACO  2024   10   71715   42.717569  12.885894    15.191638   \n",
      "254028       ACO  2024   10  127448   33.616528  13.036434    36.273066   \n",
      "254029       ACO  2024   10  134402  218.551046  12.750340  7162.803011   \n",
      "\n",
      "        iny_agua  iny_gas  iny_co2  ...   tipopozo_y    tipoextraccion_y  \\\n",
      "0            0.0      0.0      0.0  ...  Petrolífero     Bombeo Mecánico   \n",
      "1            0.0      0.0      0.0  ...  Petrolífero     Bombeo Mecánico   \n",
      "2            0.0      0.0      0.0  ...  Petrolífero     Bombeo Mecánico   \n",
      "3            0.0      0.0      0.0  ...  Petrolífero     Bombeo Mecánico   \n",
      "4            0.0      0.0      0.0  ...  Petrolífero  Cavidad Progresiva   \n",
      "...          ...      ...      ...  ...          ...                 ...   \n",
      "254025       0.0      0.0      0.0  ...  Petrolífero     Bombeo Mecánico   \n",
      "254026       0.0      0.0      0.0  ...  Petrolífero     Bombeo Mecánico   \n",
      "254027       0.0      0.0      0.0  ...  Petrolífero     Bombeo Mecánico   \n",
      "254028       0.0      0.0      0.0  ...  Petrolífero     Bombeo Mecánico   \n",
      "254029       0.0      0.0      0.0  ...  Petrolífero   Electrosumergible   \n",
      "\n",
      "               tipoestado_y adjiv_fecha_inicio_perf adjiv_fecha_fin_perf  \\\n",
      "0       Extracción Efectiva              2020-02-11           2020-03-01   \n",
      "1       Extracción Efectiva              2020-02-11           2020-03-01   \n",
      "2       Extracción Efectiva              2020-02-11           2020-03-01   \n",
      "3       Extracción Efectiva              2021-01-23           2021-02-07   \n",
      "4       Extracción Efectiva              2021-02-03           2021-02-17   \n",
      "...                     ...                     ...                  ...   \n",
      "254025  Extracción Efectiva              1999-10-10           1999-10-18   \n",
      "254026  Extracción Efectiva              2007-08-24           2007-09-06   \n",
      "254027  Extracción Efectiva              1999-10-19           1999-10-27   \n",
      "254028  Extracción Efectiva              2007-09-06           2007-09-30   \n",
      "254029  Extracción Efectiva              2010-05-17           2010-05-26   \n",
      "\n",
      "       adjiv_fecha_inicio_term adjiv_fecha_fin_term  \\\n",
      "0                   2020-03-17           2021-03-24   \n",
      "1                   2020-03-17           2021-03-24   \n",
      "2                   2020-03-17           2021-03-24   \n",
      "3                   2021-03-04           2021-03-23   \n",
      "4                   2021-02-28           2021-03-06   \n",
      "...                        ...                  ...   \n",
      "254025              1999-11-04           1999-11-07   \n",
      "254026              2007-09-12           2007-09-26   \n",
      "254027              1999-11-10           1999-11-14   \n",
      "254028              2007-10-06           2007-10-17   \n",
      "254029              2010-06-08           2010-06-19   \n",
      "\n",
      "                                                  geojson  \\\n",
      "0       {\"type\":\"Point\",\"coordinates\":[-69.57933595000...   \n",
      "1       {\"type\":\"Point\",\"coordinates\":[-69.57933595000...   \n",
      "2       {\"type\":\"Point\",\"coordinates\":[-69.57933595000...   \n",
      "3       {\"type\":\"Point\",\"coordinates\":[-67.65944863999...   \n",
      "4       {\"type\":\"Point\",\"coordinates\":[-67.82376924999...   \n",
      "...                                                   ...   \n",
      "254025  {\"type\":\"Point\",\"coordinates\":[-67.88949987755...   \n",
      "254026  {\"type\":\"Point\",\"coordinates\":[-67.79893905729...   \n",
      "254027  {\"type\":\"Point\",\"coordinates\":[-67.82449982798...   \n",
      "254028  {\"type\":\"Point\",\"coordinates\":[-67.78496229972...   \n",
      "254029  {\"type\":\"Point\",\"coordinates\":[-67.793205,-38....   \n",
      "\n",
      "                                                     geom coincide  \n",
      "0       0101000020E61000006AA917D7136551C0467BFEACE03E...     True  \n",
      "1       0101000020E61000006AA917D7136551C0467BFEACE03E...     True  \n",
      "2       0101000020E61000006AA917D7136551C0467BFEACE03E...     True  \n",
      "3       0101000020E6100000448C116834EA50C0E68333322750...     True  \n",
      "4       0101000020E6100000D40CA9A2B8F450C088F32EE600C7...     True  \n",
      "...                                                   ...      ...  \n",
      "254025  0101000020E610000020F9E490EDF850C0021BF8113AFB...     True  \n",
      "254026  0101000020E610000052A448D121F350C07B981431D50D...     True  \n",
      "254027  0101000020E61000006D30ED9AC4F450C0B5E6B2ECC408...     True  \n",
      "254028  0101000020E6100000B47B83D23CF250C0EDF08FD1BB0D...     True  \n",
      "254029  0101000020E61000008481E7DEC3F250C07EC4AF58C30D...     True  \n",
      "\n",
      "[254030 rows x 64 columns]\n"
     ]
    }
   ],
   "source": [
    "# Cargo info de Capitulo IV Pozos\n",
    "dfPozosInfo = pd.read_csv('Downloads/pozos.csv')\n",
    "dfPozosInfo['coincide'] = True\n",
    "# # Produccion de pozosd\n",
    "dfPozosProd = pd.read_csv('Downloads/pozos-prod.csv')\n",
    "# Unir las ocurrencias con el DataFrame original\n",
    "df_combinado = pd.merge(dfPozosProd, dfPozosInfo, on=['idpozo'], how='left')\n",
    "print(df_combinado)"
   ]
  },
  {
   "cell_type": "code",
   "execution_count": 16,
   "id": "81c73d64-d511-451a-a495-becde8d26da4",
   "metadata": {},
   "outputs": [],
   "source": [
    "df_combinado.to_csv('Downloads/pozos-prod-OK-Info-Pozos.csv')"
   ]
  },
  {
   "cell_type": "code",
   "execution_count": 6,
   "id": "4f3b77f4-958f-419f-a7cd-f0b63baa84c5",
   "metadata": {},
   "outputs": [
    {
     "name": "stdout",
     "output_type": "stream",
     "text": [
      "40109\n",
      "40109\n"
     ]
    }
   ],
   "source": [
    "# Carga la produccion de pozos no convencionales\n",
    "dfPozosNoConv = pd.read_csv('Downloads/pozos-noconvencional.csv')\n",
    "# Filtro año 2024\n",
    "dfPozosNoConv = dfPozosNoConv.loc[(dfPozosNoConv['anio']==2024)]\n",
    "dfPozosNoConv.reset_index(inplace=True)\n",
    "# dfPozosNoConv.to_csv('Downloads/pozos-prod-NO-Conv-2024.csv')\n",
    "print(len(dfPozosNoConv))\n",
    "\n",
    "# Chequeo unicidad\n",
    "dfPozosNoConv[\"idProduccion\"] = dfPozosNoConv[\"idpozo\"].astype(str) + \"-\" + dfPozosNoConv[\"mes\"].astype(str)\n",
    "print(len(dfPozosNoConv[\"idProduccion\"].unique()))\n",
    "\n"
   ]
  },
  {
   "cell_type": "code",
   "execution_count": 7,
   "id": "a1d7b51c-c1cb-4b02-a366-ca443ecdbaa6",
   "metadata": {},
   "outputs": [],
   "source": [
    "# Solo pozos no convencionales CON produccion\n",
    "dfPozosNoConvConProd = dfPozosNoConv[(dfPozosNoConv['prod_pet']>0) | (dfPozosNoConv['prod_gas']>0)]\n",
    "print(len(dfPozosNoConvConProd))"
   ]
  },
  {
   "cell_type": "code",
   "execution_count": 8,
   "id": "29aee2a4-9db3-4617-92b0-fcc4a232cc75",
   "metadata": {},
   "outputs": [
    {
     "name": "stderr",
     "output_type": "stream",
     "text": [
      "/var/folders/r_/x2vzgchn7xg93cptq09838d91bmbgx/T/ipykernel_67648/2815150720.py:2: DtypeWarning: Columns (16,36) have mixed types. Specify dtype option on import or set low_memory=False.\n",
      "  dfPozosProdOriginal = pd.read_csv('Downloads/pozos-prod.csv')\n"
     ]
    },
    {
     "name": "stdout",
     "output_type": "stream",
     "text": [
      "818741\n",
      "818741\n"
     ]
    }
   ],
   "source": [
    "# Cargar el CSV en un DataFrame\n",
    "dfPozosProdOriginal = pd.read_csv('Downloads/pozos-prod.csv')\n",
    "dfPozosProdOriginal[\"idProduccion\"] = dfPozosProdOriginal[\"idpozo\"].astype(str) + \"-\" + dfPozosProdOriginal[\"mes\"].astype(str)\n",
    "\n",
    "# Chequeo unicidad\n",
    "print(len(dfPozosProdOriginal))\n",
    "print(len(dfPozosProdOriginal[\"idProduccion\"].unique()))"
   ]
  },
  {
   "cell_type": "code",
   "execution_count": 53,
   "id": "82a2e56c-c200-480c-bbf8-e303031748fa",
   "metadata": {},
   "outputs": [
    {
     "name": "stdout",
     "output_type": "stream",
     "text": [
      "84332\n",
      "84332\n",
      "                   sigla  idpozo                               area cod_area  \\\n",
      "0         CH.CH.EaLE.x-1     212              ESTANCIA LA ESCONDIDA      ECH   \n",
      "1         CH.CH.EaLE.x-2     213              ESTANCIA LA ESCONDIDA      ECH   \n",
      "2           CH.CH.EaLE-3     214              ESTANCIA LA ESCONDIDA      ECH   \n",
      "3           CH.CH.EaLE-4     215              ESTANCIA LA ESCONDIDA      ECH   \n",
      "4           CH.CH.EaLE-5     216              ESTANCIA LA ESCONDIDA      ECH   \n",
      "...                  ...     ...                                ...      ...   \n",
      "84327  SHE.Nq.SB-1046(h)  165740                    SIERRAS BLANCAS     SBLA   \n",
      "84328  SHE.Nq.SB-1047(h)  165741                    SIERRAS BLANCAS     SBLA   \n",
      "84329  SHE.Nq.SB-1048(h)  165742                    SIERRAS BLANCAS     SBLA   \n",
      "84330   CGC.SCA.ECN.a-15  165743     CAMPO INDIO ESTE - EL CERRITO      CIEC   \n",
      "84331      PC.LP.EM-1211  165744  25 DE MAYO - MEDANITO SUD ESTE LP     VELP   \n",
      "\n",
      "                                     empresa  \\\n",
      "0                          COLHUE HUAPI S.A.   \n",
      "1                          COLHUE HUAPI S.A.   \n",
      "2                          COLHUE HUAPI S.A.   \n",
      "3                          COLHUE HUAPI S.A.   \n",
      "4                          COLHUE HUAPI S.A.   \n",
      "...                                      ...   \n",
      "84327                   SHELL ARGENTINA S.A.   \n",
      "84328                   SHELL ARGENTINA S.A.   \n",
      "84329                   SHELL ARGENTINA S.A.   \n",
      "84330  COMPAÑÍA GENERAL DE COMBUSTIBLES S.A.   \n",
      "84331   PETROQUIMICA COMODORO RIVADAVIA S.A.   \n",
      "\n",
      "                             yacimiento cod_yacimiento           formacion  \\\n",
      "0                 ESTANCIA LA ESCONDIDA            ELA  comodoro rivadavia   \n",
      "1                 ESTANCIA LA ESCONDIDA            ELA  comodoro rivadavia   \n",
      "2                 ESTANCIA LA ESCONDIDA            ELA  comodoro rivadavia   \n",
      "3                 ESTANCIA LA ESCONDIDA            ELA  comodoro rivadavia   \n",
      "4                 ESTANCIA LA ESCONDIDA            ELA  comodoro rivadavia   \n",
      "...                                 ...            ...                 ...   \n",
      "84327                   SIERRAS BLANCAS           SIBL         vaca muerta   \n",
      "84328                   SIERRAS BLANCAS           SIBL         vaca muerta   \n",
      "84329                   SIERRAS BLANCAS           SIBL         vaca muerta   \n",
      "84330                  EL CERRITO NORTE           ECNO          magallanes   \n",
      "84331  25 DE MAYO - MEDANITO SUDESTE LP           VELP             choiyoi   \n",
      "\n",
      "                cuenca   provincia  ...             tipoextraccion  \\\n",
      "0      GOLFO SAN JORGE      Chubut  ...            Bombeo Mecánico   \n",
      "1      GOLFO SAN JORGE      Chubut  ...  Sin Sistema de Extracción   \n",
      "2      GOLFO SAN JORGE      Chubut  ...            Bombeo Mecánico   \n",
      "3      GOLFO SAN JORGE      Chubut  ...            Bombeo Mecánico   \n",
      "4      GOLFO SAN JORGE      Chubut  ...            Bombeo Mecánico   \n",
      "...                ...         ...  ...                        ...   \n",
      "84327         NEUQUINA     Neuquén  ...          Surgencia Natural   \n",
      "84328         NEUQUINA     Neuquén  ...          Surgencia Natural   \n",
      "84329         NEUQUINA     Neuquén  ...          Surgencia Natural   \n",
      "84330          AUSTRAL  Santa Cruz  ...          Surgencia Natural   \n",
      "84331         NEUQUINA    La Pampa  ...            Bombeo Mecánico   \n",
      "\n",
      "                  tipoestado adjiv_fecha_inicio_perf adjiv_fecha_fin_perf  \\\n",
      "0        Extracción Efectiva              1996-10-30           1996-11-13   \n",
      "1      En Inyección Efectiva              1996-10-14           1996-11-13   \n",
      "2        Extracción Efectiva              1997-01-30           1997-02-07   \n",
      "3        Extracción Efectiva              1997-01-13           1997-01-20   \n",
      "4        Extracción Efectiva              1997-02-16           1997-02-24   \n",
      "...                      ...                     ...                  ...   \n",
      "84327    Extracción Efectiva              2022-08-10           2023-07-26   \n",
      "84328    Extracción Efectiva              2022-08-23           2023-08-18   \n",
      "84329    Extracción Efectiva              2022-09-05           2023-09-08   \n",
      "84330    Extracción Efectiva              2024-05-07           2024-05-18   \n",
      "84331    Extracción Efectiva              1998-07-19           1998-08-11   \n",
      "\n",
      "      adjiv_fecha_inicio_term adjiv_fecha_fin_term  \\\n",
      "0                  1996-11-17           1996-12-07   \n",
      "1                  1996-12-09           1996-12-17   \n",
      "2                  1997-03-02           1997-03-10   \n",
      "3                  1997-01-23           1997-02-07   \n",
      "4                  1997-03-10           1997-03-18   \n",
      "...                       ...                  ...   \n",
      "84327              2024-04-16           2024-08-13   \n",
      "84328              2024-04-16           2024-08-14   \n",
      "84329              2024-04-16           2024-08-12   \n",
      "84330              2024-05-18           2024-09-10   \n",
      "84331              1998-08-15           1998-08-26   \n",
      "\n",
      "                                                 geojson  \\\n",
      "0      {'type': 'Point', 'coordinates': [-68.287853, ...   \n",
      "1      {'type': 'Point', 'coordinates': [-68.292019, ...   \n",
      "2      {'type': 'Point', 'coordinates': [-68.283878, ...   \n",
      "3      {'type': 'Point', 'coordinates': [-68.289483, ...   \n",
      "4      {'type': 'Point', 'coordinates': [-68.294475, ...   \n",
      "...                                                  ...   \n",
      "84327  {'type': 'Point', 'coordinates': [-68.43781272...   \n",
      "84328  {'type': 'Point', 'coordinates': [-68.43764185...   \n",
      "84329  {'type': 'Point', 'coordinates': [-68.43746999...   \n",
      "84330  {'type': 'Point', 'coordinates': [-71.33861, -...   \n",
      "84331  {'type': 'Point', 'coordinates': [-67.86578, -...   \n",
      "\n",
      "                                                    geom   type  \\\n",
      "0      0101000020E61000008D43FD2E6C1251C00E4B033FAACB...  Point   \n",
      "1      0101000020E6100000E1B37570B01251C00BB5A679C7CB...  Point   \n",
      "2      0101000020E61000007383A10E2B1251C082548A1D8DCB...  Point   \n",
      "3      0101000020E6100000DF6FB4E3861251C0A148F7730ACC...  Point   \n",
      "4      0101000020E6100000569FABADD81251C0B98D06F016CC...  Point   \n",
      "...                                                  ...    ...   \n",
      "84327  0101000020E610000020EFAB1F051C51C0CEA160CE623C...  Point   \n",
      "84328  0101000020E61000002AD0FD52021C51C0E9B258C7623C...  Point   \n",
      "84329  0101000020E6100000E99C2982FF1B51C0195847C4623C...  Point   \n",
      "84330  0101000020E61000004F0647C9ABD551C0DC63E9431744...  Point   \n",
      "84331  0101000020E6100000FA6184F068F750C091442FA35802...  Point   \n",
      "\n",
      "                                  coordinates  \n",
      "0                    [-68.287853, -45.591133]  \n",
      "1                    [-68.292019, -45.592025]  \n",
      "2                    [-68.283878, -45.590244]  \n",
      "3                    [-68.289483, -45.594069]  \n",
      "4                     [-68.294475, -45.59445]  \n",
      "...                                       ...  \n",
      "84327  [-68.4378127268833, -38.4717653247677]  \n",
      "84328  [-68.4376418570179, -38.4717644866085]  \n",
      "84329  [-68.4374699980141, -38.4717641208992]  \n",
      "84330                  [-71.33861, -50.53196]  \n",
      "84331                  [-67.86578, -38.01833]  \n",
      "\n",
      "[84332 rows x 28 columns]\n"
     ]
    }
   ],
   "source": [
    "import json\n",
    "\n",
    "# Cargo pozos capitulo IV\n",
    "dfPozosOriginal = pd.read_csv('Downloads/pozos.csv')\n",
    "\n",
    "print(len(dfPozosOriginal))\n",
    "print(len(dfPozosOriginal[\"idpozo\"].unique()))\n",
    "\n",
    "# Agrego columna sigla-idpozo\n",
    "# dfPozosOriginal[\"sigla-idpozo\"] = dfPozosOriginal[\"sigla\"].astype(str) + \"-\" + dfPozosOriginal[\"idpozo\"].astype(str)\n",
    "# duplisiglaid = dfPozosOriginal['sigla-idpozo'].duplicated(keep=False)\n",
    "\n",
    "# # Filtrar solo las filas con duplicados\n",
    "# duplicates_sigla_idpozo = dfPozosOriginal[duplisiglaid]\n",
    "# print(duplicates_sigla_idpozo)\n",
    "\n",
    "# Convertir la columna JSON en un diccionario\n",
    "df = pd.DataFrame()\n",
    "df = dfPozosOriginal\n",
    "df['geojson'] = dfPozosOriginal['geojson'].apply(json.loads)\n",
    "\n",
    "# Expandir las claves del JSON en nuevas columnas\n",
    "expanded_df = pd.json_normalize(df['geojson'])\n",
    "\n",
    "# # Combinar las columnas originales con las nuevas\n",
    "dfPozosOriginal = pd.concat([dfPozosOriginal, expanded_df], axis=1)\n",
    "\n",
    "print(dfPozosOriginal)"
   ]
  },
  {
   "cell_type": "code",
   "execution_count": 54,
   "id": "faca2d46-c37f-4521-a1ec-557e9e2ee632",
   "metadata": {},
   "outputs": [],
   "source": [
    "dfPozosOriginal['coordinates_str'] =  dfPozosOriginal['coordinates'].apply(lambda x: ', '.join(f\"{num}\" for num in x))\n",
    "\n",
    "# print(len(dfPozosOriginal['coordinates_str'].unique()))\n",
    "# print(len(dfPozosOriginal['coordinates_str'] ))"
   ]
  },
  {
   "cell_type": "code",
   "execution_count": 127,
   "id": "68ce61f5-6076-47da-a799-d469a5bb1781",
   "metadata": {},
   "outputs": [],
   "source": [
    "dfPozosOriginal.to_csv('Downloads/pozos-con-coordenadas.csv')"
   ]
  },
  {
   "cell_type": "code",
   "execution_count": 128,
   "id": "5999b104-3b32-4d77-a738-3940fc4c8742",
   "metadata": {},
   "outputs": [],
   "source": [
    "\n",
    "# print(len(pd.concat([dfPozosOriginal['idpozo'], dfPozosOriginal['sigla']]).unique()))"
   ]
  },
  {
   "cell_type": "code",
   "execution_count": 20,
   "id": "71b99151-fa6e-486f-9d1e-e08ab0231d95",
   "metadata": {},
   "outputs": [
    {
     "name": "stdout",
     "output_type": "stream",
     "text": [
      "                   sigla  idpozo                                 area  \\\n",
      "78         YPF.St.LO.x-2     318                 YACIMIENTO NORTE 1/B   \n",
      "80     YPF.St.LO.x-2 (I)     320                 YACIMIENTO NORTE 1/B   \n",
      "207        YPF.Nq.OA.x-1     525                         BAJO GUANACO   \n",
      "208        YPF.Nq.OA.x-2     526                         BAJO GUANACO   \n",
      "213       AEC.Nq.CVO.x-1     531                         BAJO GUANACO   \n",
      "...                  ...     ...                                  ...   \n",
      "84278     YPF.SC.LM-1012  165690            LOS PERALES - LAS MESETAS   \n",
      "84297    YPF.Ch.Gbk-1274  165710                     MANANTIALES BEHR   \n",
      "84298    YPF.Ch.Gbk-1277  165711                     MANANTIALES BEHR   \n",
      "84319    YPF.SC.CnE-1454  165732  CAÑADON DE LA ESCONDIDA - LAS HERAS   \n",
      "84320    YPF.SC.CnE-1454  165733  CAÑADON DE LA ESCONDIDA - LAS HERAS   \n",
      "\n",
      "      cod_area               empresa               yacimiento cod_yacimiento  \\\n",
      "78        YN1B                   NaN     YACIMIENTO NORTE 1/B           Y071   \n",
      "80        YN1B                   NaN     YACIMIENTO NORTE 1/B           Y071   \n",
      "207       BAGU  ARGENTA ENERGIA S.A.             BAJO GUANACO            BGU   \n",
      "208       BAGU  ARGENTA ENERGIA S.A.             BAJO GUANACO            BGU   \n",
      "213       BAGU  ARGENTA ENERGIA S.A.             BAJO GUANACO            BGU   \n",
      "...        ...                   ...                      ...            ...   \n",
      "84278      PER              YPF S.A.              LAS MESETAS           Z204   \n",
      "84297      BEH              YPF S.A.         MANANTIALES BEHR            BEH   \n",
      "84298      BEH              YPF S.A.         MANANTIALES BEHR            BEH   \n",
      "84319      ESC              YPF S.A.  CAÑADON DE LA ESCONDIDA           Z071   \n",
      "84320      ESC              YPF S.A.  CAÑADON DE LA ESCONDIDA           Z071   \n",
      "\n",
      "                    formacion           cuenca   provincia  ...  \\\n",
      "78     formación improductiva         NOROESTE       Salta  ...   \n",
      "80     formación improductiva         NOROESTE       Salta  ...   \n",
      "207                     lajas         NEUQUINA     Neuquén  ...   \n",
      "208                     agrio         NEUQUINA     Neuquén  ...   \n",
      "213               barda negra         NEUQUINA     Neuquén  ...   \n",
      "...                       ...              ...         ...  ...   \n",
      "84278                castillo  GOLFO SAN JORGE  Santa Cruz  ...   \n",
      "84297            grupo chubut  GOLFO SAN JORGE      Chubut  ...   \n",
      "84298            grupo chubut  GOLFO SAN JORGE      Chubut  ...   \n",
      "84319            bajo barreal  GOLFO SAN JORGE  Santa Cruz  ...   \n",
      "84320                castillo  GOLFO SAN JORGE  Santa Cruz  ...   \n",
      "\n",
      "                     tipoestado  adjiv_fecha_inicio_perf adjiv_fecha_fin_perf  \\\n",
      "78                   Abandonado                      NaN                  NaN   \n",
      "80                   Abandonado                      NaN                  NaN   \n",
      "207                  En Estudio               1968-08-20           1968-12-10   \n",
      "208    Otras Situación Inactivo               1980-04-09           1980-09-16   \n",
      "213    Otras Situación Inactivo               1996-11-04           1997-01-22   \n",
      "...                         ...                      ...                  ...   \n",
      "84278       Extracción Efectiva               2024-05-04           2024-05-20   \n",
      "84297       Extracción Efectiva               2023-09-29           2023-10-08   \n",
      "84298       Extracción Efectiva               2023-10-08           2023-10-16   \n",
      "84319   Parado Transitoriamente               2024-05-30           2024-06-15   \n",
      "84320   Parado Transitoriamente               2024-05-30           2024-06-15   \n",
      "\n",
      "      adjiv_fecha_inicio_term adjiv_fecha_fin_term  \\\n",
      "78                        NaN                  NaN   \n",
      "80                        NaN                  NaN   \n",
      "207                1969-01-22           1969-02-17   \n",
      "208                1980-10-01           1980-11-10   \n",
      "213                1997-04-12           1997-05-08   \n",
      "...                       ...                  ...   \n",
      "84278              2024-08-15           2024-09-02   \n",
      "84297              2023-11-01           2023-11-05   \n",
      "84298              2023-11-06           2023-11-10   \n",
      "84319              2024-10-04           2024-10-22   \n",
      "84320              2024-10-04           2024-10-22   \n",
      "\n",
      "                                                 geojson  \\\n",
      "78     {'type': 'Point', 'coordinates': [-63.87134713...   \n",
      "80     {'type': 'Point', 'coordinates': [-63.87134713...   \n",
      "207    {'type': 'Point', 'coordinates': [-69.88988676...   \n",
      "208    {'type': 'Point', 'coordinates': [-69.80390046...   \n",
      "213    {'type': 'Point', 'coordinates': [-69.74490328...   \n",
      "...                                                  ...   \n",
      "84278  {'type': 'Point', 'coordinates': [-69.43053583...   \n",
      "84297  {'type': 'Point', 'coordinates': [-67.76156233...   \n",
      "84298  {'type': 'Point', 'coordinates': [-67.76117297...   \n",
      "84319  {'type': 'Point', 'coordinates': [-68.57082078...   \n",
      "84320  {'type': 'Point', 'coordinates': [-68.57082078...   \n",
      "\n",
      "                                                    geom   type  \\\n",
      "78     0101000020E610000001698E4D88EF4FC046815F5DD4A4...  Point   \n",
      "80     0101000020E610000001698E4D88EF4FC046815F5DD4A4...  Point   \n",
      "207    0101000020E610000061AA9DE7F37851C0817E0EEAFF5F...  Point   \n",
      "208    0101000020E610000046C1F21A737351C04C4D683C5A63...  Point   \n",
      "213    0101000020E61000009283D47EAC6F51C0B15042DCCF65...  Point   \n",
      "...                                                  ...    ...   \n",
      "84278  0101000020E6100000CC6627E68D5B51C0957F6FCB2E11...  Point   \n",
      "84297  0101000020E6100000CC4DED6FBDF050C0B410704AF1CA...  Point   \n",
      "84298  0101000020E6100000F32FD50EB7F050C05B890EBB4ECB...  Point   \n",
      "84319  0101000020E61000008B7EE153882451C02C497DDD123D...  Point   \n",
      "84320  0101000020E61000008B7EE153882451C02C497DDD123D...  Point   \n",
      "\n",
      "                                  coordinates  \\\n",
      "78     [-63.8713471360552, -23.6438654287497]   \n",
      "80     [-63.8713471360552, -23.6438654287497]   \n",
      "207      [-69.889886764498, -38.749997384145]   \n",
      "208      [-69.803900467935, -38.776191283158]   \n",
      "213      [-69.744903285535, -38.795405895596]   \n",
      "...                                       ...   \n",
      "84278            [-69.43053583, -46.13424056]   \n",
      "84297            [-67.76156233, -45.58548861]   \n",
      "84298            [-67.76117297, -45.58834017]   \n",
      "84319            [-68.57082078, -46.47713822]   \n",
      "84320            [-68.57082078, -46.47713822]   \n",
      "\n",
      "                            coordinates_str  \n",
      "78     -63.8713471360552, -23.6438654287497  \n",
      "80     -63.8713471360552, -23.6438654287497  \n",
      "207      -69.889886764498, -38.749997384145  \n",
      "208      -69.803900467935, -38.776191283158  \n",
      "213      -69.744903285535, -38.795405895596  \n",
      "...                                     ...  \n",
      "84278            -69.43053583, -46.13424056  \n",
      "84297            -67.76156233, -45.58548861  \n",
      "84298            -67.76117297, -45.58834017  \n",
      "84319            -68.57082078, -46.47713822  \n",
      "84320            -68.57082078, -46.47713822  \n",
      "\n",
      "[12052 rows x 29 columns]\n"
     ]
    }
   ],
   "source": [
    "duplicated = dfPozosOriginal['coordinates_str'].duplicated(keep=False)\n",
    "\n",
    "# Filtrar solo las filas con duplicados\n",
    "dfPozosSoloDuplicados = dfPozosOriginal[duplicated]\n",
    "\n",
    "print(dfPozosSoloDuplicados)"
   ]
  },
  {
   "cell_type": "code",
   "execution_count": 134,
   "id": "030a1cad-aa33-48ed-949b-2b67b246d8e1",
   "metadata": {},
   "outputs": [
    {
     "name": "stdout",
     "output_type": "stream",
     "text": [
      "12052\n"
     ]
    }
   ],
   "source": [
    "duplicates_sigla = pd.DataFrame(dfPozosSoloDuplicados)\n",
    "duplicates_sigla[\"sigla-coordenadas\"] = duplicates_sigla[\"sigla\"].astype(str) + \"-\" + duplicates_sigla[\"coordinates_str\"].astype(str)\n",
    "print(len(duplicates_sigla))"
   ]
  },
  {
   "cell_type": "code",
   "execution_count": 141,
   "id": "bd7bf51a-b30e-4771-810f-aa00a7b78fda",
   "metadata": {},
   "outputs": [
    {
     "name": "stdout",
     "output_type": "stream",
     "text": [
      "11132\n",
      "11132\n"
     ]
    }
   ],
   "source": [
    "print(len(duplicates_sigla))\n",
    "dupli = duplicates_sigla['sigla-coordenadas'].duplicated(keep=False)\n",
    "\n",
    "# Filtrar solo las filas con duplicados\n",
    "duplicates_sigla = duplicates_sigla[dupli]\n",
    "print(len(duplicates_sigla))\n",
    "# print(len(dupli))\n",
    "# print(len(duplicates_sigla['sigla-coordenadas'].unique()))\n",
    "# # Filtrar solo las filas con duplicados\n",
    "# dfPozosSoloDuplicadosConSigla = pd.DataFrame(dfPozosSoloDuplicadosConSigla)\n",
    "# dfPozosSoloDuplicadosConSigla = dfPozosSoloDuplicadosConSigla[siglaSuplicados]\n"
   ]
  },
  {
   "cell_type": "code",
   "execution_count": 123,
   "id": "26301ed0-2d9e-48ce-8089-946b4399af9a",
   "metadata": {},
   "outputs": [
    {
     "name": "stdout",
     "output_type": "stream",
     "text": [
      "                   sigla  idpozo                                 area  \\\n",
      "78         YPF.St.LO.x-2     318                 YACIMIENTO NORTE 1/B   \n",
      "80     YPF.St.LO.x-2 (I)     320                 YACIMIENTO NORTE 1/B   \n",
      "207        YPF.Nq.OA.x-1     525                         BAJO GUANACO   \n",
      "208        YPF.Nq.OA.x-2     526                         BAJO GUANACO   \n",
      "213       AEC.Nq.CVO.x-1     531                         BAJO GUANACO   \n",
      "...                  ...     ...                                  ...   \n",
      "84278     YPF.SC.LM-1012  165690            LOS PERALES - LAS MESETAS   \n",
      "84297    YPF.Ch.Gbk-1274  165710                     MANANTIALES BEHR   \n",
      "84298    YPF.Ch.Gbk-1277  165711                     MANANTIALES BEHR   \n",
      "84319    YPF.SC.CnE-1454  165732  CAÑADON DE LA ESCONDIDA - LAS HERAS   \n",
      "84320    YPF.SC.CnE-1454  165733  CAÑADON DE LA ESCONDIDA - LAS HERAS   \n",
      "\n",
      "      cod_area               empresa               yacimiento cod_yacimiento  \\\n",
      "78        YN1B                   NaN     YACIMIENTO NORTE 1/B           Y071   \n",
      "80        YN1B                   NaN     YACIMIENTO NORTE 1/B           Y071   \n",
      "207       BAGU  ARGENTA ENERGIA S.A.             BAJO GUANACO            BGU   \n",
      "208       BAGU  ARGENTA ENERGIA S.A.             BAJO GUANACO            BGU   \n",
      "213       BAGU  ARGENTA ENERGIA S.A.             BAJO GUANACO            BGU   \n",
      "...        ...                   ...                      ...            ...   \n",
      "84278      PER              YPF S.A.              LAS MESETAS           Z204   \n",
      "84297      BEH              YPF S.A.         MANANTIALES BEHR            BEH   \n",
      "84298      BEH              YPF S.A.         MANANTIALES BEHR            BEH   \n",
      "84319      ESC              YPF S.A.  CAÑADON DE LA ESCONDIDA           Z071   \n",
      "84320      ESC              YPF S.A.  CAÑADON DE LA ESCONDIDA           Z071   \n",
      "\n",
      "                    formacion           cuenca   provincia  ...  \\\n",
      "78     formación improductiva         NOROESTE       Salta  ...   \n",
      "80     formación improductiva         NOROESTE       Salta  ...   \n",
      "207                     lajas         NEUQUINA     Neuquén  ...   \n",
      "208                     agrio         NEUQUINA     Neuquén  ...   \n",
      "213               barda negra         NEUQUINA     Neuquén  ...   \n",
      "...                       ...              ...         ...  ...   \n",
      "84278                castillo  GOLFO SAN JORGE  Santa Cruz  ...   \n",
      "84297            grupo chubut  GOLFO SAN JORGE      Chubut  ...   \n",
      "84298            grupo chubut  GOLFO SAN JORGE      Chubut  ...   \n",
      "84319            bajo barreal  GOLFO SAN JORGE  Santa Cruz  ...   \n",
      "84320                castillo  GOLFO SAN JORGE  Santa Cruz  ...   \n",
      "\n",
      "       adjiv_fecha_inicio_perf  adjiv_fecha_fin_perf adjiv_fecha_inicio_term  \\\n",
      "78                         NaN                   NaN                     NaN   \n",
      "80                         NaN                   NaN                     NaN   \n",
      "207                 1968-08-20            1968-12-10              1969-01-22   \n",
      "208                 1980-04-09            1980-09-16              1980-10-01   \n",
      "213                 1996-11-04            1997-01-22              1997-04-12   \n",
      "...                        ...                   ...                     ...   \n",
      "84278               2024-05-04            2024-05-20              2024-08-15   \n",
      "84297               2023-09-29            2023-10-08              2023-11-01   \n",
      "84298               2023-10-08            2023-10-16              2023-11-06   \n",
      "84319               2024-05-30            2024-06-15              2024-10-04   \n",
      "84320               2024-05-30            2024-06-15              2024-10-04   \n",
      "\n",
      "      adjiv_fecha_fin_term                                            geojson  \\\n",
      "78                     NaN  {'type': 'Point', 'coordinates': [-63.87134713...   \n",
      "80                     NaN  {'type': 'Point', 'coordinates': [-63.87134713...   \n",
      "207             1969-02-17  {'type': 'Point', 'coordinates': [-69.88988676...   \n",
      "208             1980-11-10  {'type': 'Point', 'coordinates': [-69.80390046...   \n",
      "213             1997-05-08  {'type': 'Point', 'coordinates': [-69.74490328...   \n",
      "...                    ...                                                ...   \n",
      "84278           2024-09-02  {'type': 'Point', 'coordinates': [-69.43053583...   \n",
      "84297           2023-11-05  {'type': 'Point', 'coordinates': [-67.76156233...   \n",
      "84298           2023-11-10  {'type': 'Point', 'coordinates': [-67.76117297...   \n",
      "84319           2024-10-22  {'type': 'Point', 'coordinates': [-68.57082078...   \n",
      "84320           2024-10-22  {'type': 'Point', 'coordinates': [-68.57082078...   \n",
      "\n",
      "                                                    geom   type  \\\n",
      "78     0101000020E610000001698E4D88EF4FC046815F5DD4A4...  Point   \n",
      "80     0101000020E610000001698E4D88EF4FC046815F5DD4A4...  Point   \n",
      "207    0101000020E610000061AA9DE7F37851C0817E0EEAFF5F...  Point   \n",
      "208    0101000020E610000046C1F21A737351C04C4D683C5A63...  Point   \n",
      "213    0101000020E61000009283D47EAC6F51C0B15042DCCF65...  Point   \n",
      "...                                                  ...    ...   \n",
      "84278  0101000020E6100000CC6627E68D5B51C0957F6FCB2E11...  Point   \n",
      "84297  0101000020E6100000CC4DED6FBDF050C0B410704AF1CA...  Point   \n",
      "84298  0101000020E6100000F32FD50EB7F050C05B890EBB4ECB...  Point   \n",
      "84319  0101000020E61000008B7EE153882451C02C497DDD123D...  Point   \n",
      "84320  0101000020E61000008B7EE153882451C02C497DDD123D...  Point   \n",
      "\n",
      "                                  coordinates  \\\n",
      "78     [-63.8713471360552, -23.6438654287497]   \n",
      "80     [-63.8713471360552, -23.6438654287497]   \n",
      "207      [-69.889886764498, -38.749997384145]   \n",
      "208      [-69.803900467935, -38.776191283158]   \n",
      "213      [-69.744903285535, -38.795405895596]   \n",
      "...                                       ...   \n",
      "84278            [-69.43053583, -46.13424056]   \n",
      "84297            [-67.76156233, -45.58548861]   \n",
      "84298            [-67.76117297, -45.58834017]   \n",
      "84319            [-68.57082078, -46.47713822]   \n",
      "84320            [-68.57082078, -46.47713822]   \n",
      "\n",
      "                            coordinates_str  \\\n",
      "78     -63.8713471360552, -23.6438654287497   \n",
      "80     -63.8713471360552, -23.6438654287497   \n",
      "207      -69.889886764498, -38.749997384145   \n",
      "208      -69.803900467935, -38.776191283158   \n",
      "213      -69.744903285535, -38.795405895596   \n",
      "...                                     ...   \n",
      "84278            -69.43053583, -46.13424056   \n",
      "84297            -67.76156233, -45.58548861   \n",
      "84298            -67.76117297, -45.58834017   \n",
      "84319            -68.57082078, -46.47713822   \n",
      "84320            -68.57082078, -46.47713822   \n",
      "\n",
      "                                       sigla-coordenadas  \n",
      "78     YPF.St.LO.x-2--63.8713471360552, -23.643865428...  \n",
      "80     YPF.St.LO.x-2 (I)--63.8713471360552, -23.64386...  \n",
      "207     YPF.Nq.OA.x-1--69.889886764498, -38.749997384145  \n",
      "208     YPF.Nq.OA.x-2--69.803900467935, -38.776191283158  \n",
      "213    AEC.Nq.CVO.x-1--69.744903285535, -38.795405895596  \n",
      "...                                                  ...  \n",
      "84278          YPF.SC.LM-1012--69.43053583, -46.13424056  \n",
      "84297         YPF.Ch.Gbk-1274--67.76156233, -45.58548861  \n",
      "84298         YPF.Ch.Gbk-1277--67.76117297, -45.58834017  \n",
      "84319         YPF.SC.CnE-1454--68.57082078, -46.47713822  \n",
      "84320         YPF.SC.CnE-1454--68.57082078, -46.47713822  \n",
      "\n",
      "[12052 rows x 30 columns]\n"
     ]
    }
   ],
   "source": [
    "print(dfPozosSoloDuplicadosConSigla)"
   ]
  },
  {
   "cell_type": "code",
   "execution_count": 142,
   "id": "020f5cff-c054-42d5-9513-b58086b47f3b",
   "metadata": {},
   "outputs": [
    {
     "data": {
      "text/plain": [
       "920"
      ]
     },
     "execution_count": 142,
     "metadata": {},
     "output_type": "execute_result"
    }
   ],
   "source": [
    "12052-11132"
   ]
  },
  {
   "cell_type": "code",
   "execution_count": 21,
   "id": "dd3d379f-0964-4f7b-b048-7f6cb300e1c7",
   "metadata": {},
   "outputs": [],
   "source": [
    "def count_duplicates(df, columns):\n",
    "    \"\"\"\n",
    "    Cuenta duplicados en un DataFrame considerando múltiples columnas.\n",
    "\n",
    "    Args:\n",
    "        df (pd.DataFrame): El DataFrame de entrada.\n",
    "        columns (list): Lista de columnas en las que buscar duplicados.\n",
    "\n",
    "    Returns:\n",
    "        pd.DataFrame: DataFrame con las combinaciones duplicadas y sus conteos.\n",
    "    \"\"\"\n",
    "    # Agrupar por las columnas seleccionadas y contar las ocurrencias\n",
    "    duplicates = df.groupby(columns).size().reset_index(name='count')\n",
    "    \n",
    "    # Filtrar combinaciones con más de 1 aparición\n",
    "    duplicates = duplicates[duplicates['count'] > 1]\n",
    "    \n",
    "    return duplicates"
   ]
  },
  {
   "cell_type": "code",
   "execution_count": 151,
   "id": "5e89a1f4-3af4-41e1-ab11-da7388e3a7a6",
   "metadata": {},
   "outputs": [],
   "source": [
    "duplicates_sigla.to_csv('Downloads/pozos-duplicados.csv')"
   ]
  },
  {
   "cell_type": "code",
   "execution_count": 29,
   "id": "81b6f301-0a95-49b9-8050-6333760d21d8",
   "metadata": {},
   "outputs": [],
   "source": [
    "import requests\n",
    "\n",
    "def chunk_list(data, chunk_size):\n",
    "    \"\"\"Divide una lista en trozos más pequeños.\"\"\"\n",
    "    for i in range(0, len(data), chunk_size):\n",
    "        yield data[i:i + chunk_size]\n",
    "\n",
    "def get_territorial_units(ubicaciones):\n",
    "    API_BASE_URL = \"https://apis.datos.gob.ar/georef/api/\"\n",
    "    \"\"\"Pide las unidades territoriales que contienen a cada punto de una lista de coordenadas.\"\"\"\n",
    "    \n",
    "    endpoint = \"ubicacion\"\n",
    "    url = API_BASE_URL + endpoint\n",
    "    max_chunk_size = 1000\n",
    "    all_results = []\n",
    "\n",
    "    # Dividir la lista de ubicaciones en chunks de tamaño máximo\n",
    "    for chunk in chunk_list(ubicaciones, max_chunk_size):\n",
    "        data = {\n",
    "            \"ubicaciones\": [\n",
    "                {\"lat\": ubicacion[\"lat\"], \"lon\": ubicacion[\"lon\"], \"aplanar\": True}\n",
    "                for ubicacion in chunk\n",
    "            ]\n",
    "        }\n",
    "        # Realizar la solicitud para cada chunk\n",
    "        response = requests.post(\n",
    "            url, json=data, headers={\"Content-Type\": \"application/json\"}\n",
    "        )\n",
    "        response.raise_for_status()  # Asegura que no haya errores HTTP\n",
    "        results = response.json()\n",
    "\n",
    "        # Convertir los resultados en una lista procesada\n",
    "        parsed_results = [\n",
    "            single_result[endpoint] if single_result.get(endpoint) else {}\n",
    "            for single_result in results.get(\"resultados\", [])\n",
    "        ]\n",
    "        all_results.extend(parsed_results)\n",
    "    \n",
    "    return all_results"
   ]
  },
  {
   "cell_type": "code",
   "execution_count": 31,
   "id": "f8b2ae97-9fd8-40d4-913b-f2fa41776e16",
   "metadata": {},
   "outputs": [],
   "source": [
    "coordenadas_unicas = dfPozosOriginal[\"coordinates_str\"].unique()"
   ]
  },
  {
   "cell_type": "code",
   "execution_count": 32,
   "id": "7aa96e58-105a-42df-93b5-7e29751402fa",
   "metadata": {},
   "outputs": [
    {
     "name": "stdout",
     "output_type": "stream",
     "text": [
      "77804\n"
     ]
    }
   ],
   "source": [
    "print(len(coordenadas_unicas))"
   ]
  },
  {
   "cell_type": "code",
   "execution_count": 34,
   "id": "c62d421e-aaa1-4ec5-a29c-b7e03f4c6f7f",
   "metadata": {},
   "outputs": [
    {
     "name": "stdout",
     "output_type": "stream",
     "text": [
      "77804\n"
     ]
    }
   ],
   "source": [
    "coord = [] \n",
    "for coor in coordenadas_unicas:\n",
    "    coords = coor.split(\",\")\n",
    "    dic = {\"lat\": float(coords[1].strip()), \"lon\": float(coords[0].strip())}\n",
    "    coord.append(dic)\n",
    "\n",
    "print(len(coord))"
   ]
  },
  {
   "cell_type": "code",
   "execution_count": 36,
   "id": "fd025b77-65bc-4cdd-988d-224403fb603e",
   "metadata": {},
   "outputs": [],
   "source": [
    "\n",
    "ubicaciones = get_territorial_units(arraydic)"
   ]
  },
  {
   "cell_type": "code",
   "execution_count": 173,
   "id": "2bfc560f-78de-41f5-9922-cfab5fe030c8",
   "metadata": {},
   "outputs": [
    {
     "name": "stdout",
     "output_type": "stream",
     "text": [
      "[{'departamento_id': '26021', 'departamento_nombre': 'Escalante', 'lat': -45.591133, 'lon': -68.287853, 'municipio_id': None, 'municipio_nombre': None, 'provincia_id': '26', 'provincia_nombre': 'Chubut'}, {'departamento_id': '26021', 'departamento_nombre': 'Escalante', 'lat': -45.592025, 'lon': -68.292019, 'municipio_id': None, 'municipio_nombre': None, 'provincia_id': '26', 'provincia_nombre': 'Chubut'}, {'departamento_id': '26021', 'departamento_nombre': 'Escalante', 'lat': -45.590244, 'lon': -68.283878, 'municipio_id': None, 'municipio_nombre': None, 'provincia_id': '26', 'provincia_nombre': 'Chubut'}, {'departamento_id': '26021', 'departamento_nombre': 'Escalante', 'lat': -45.594069, 'lon': -68.289483, 'municipio_id': None, 'municipio_nombre': None, 'provincia_id': '26', 'provincia_nombre': 'Chubut'}, {'departamento_id': '26021', 'departamento_nombre': 'Escalante', 'lat': -45.59445, 'lon': -68.294475, 'municipio_id': None, 'municipio_nombre': None, 'provincia_id': '26', 'provincia_nombre': 'Chubut'}, {'departamento_id': '26021', 'departamento_nombre': 'Escalante', 'lat': -45.592686, 'lon': -68.297317, 'municipio_id': None, 'municipio_nombre': None, 'provincia_id': '26', 'provincia_nombre': 'Chubut'}, {'departamento_id': '26021', 'departamento_nombre': 'Escalante', 'lat': -45.590272, 'lon': -68.295372, 'municipio_id': None, 'municipio_nombre': None, 'provincia_id': '26', 'provincia_nombre': 'Chubut'}, {'departamento_id': '26021', 'departamento_nombre': 'Escalante', 'lat': -45.594703, 'lon': -68.299844, 'municipio_id': None, 'municipio_nombre': None, 'provincia_id': '26', 'provincia_nombre': 'Chubut'}, {'departamento_id': '26021', 'departamento_nombre': 'Escalante', 'lat': -45.591589, 'lon': -68.303228, 'municipio_id': None, 'municipio_nombre': None, 'provincia_id': '26', 'provincia_nombre': 'Chubut'}, {'departamento_id': '26021', 'departamento_nombre': 'Escalante', 'lat': -45.596242, 'lon': -68.291519, 'municipio_id': None, 'municipio_nombre': None, 'provincia_id': '26', 'provincia_nombre': 'Chubut'}]\n"
     ]
    }
   ],
   "source": [
    "print(ubicaciones[:5])"
   ]
  },
  {
   "cell_type": "code",
   "execution_count": 37,
   "id": "a8a255f9-470e-4f0e-8214-77f5658d4a06",
   "metadata": {},
   "outputs": [
    {
     "name": "stdout",
     "output_type": "stream",
     "text": [
      "77804\n"
     ]
    }
   ],
   "source": [
    "print(len(ubicaciones))"
   ]
  },
  {
   "cell_type": "code",
   "execution_count": 39,
   "id": "b70a50e0-8ace-4a6d-9f0f-c7ef6dba3488",
   "metadata": {},
   "outputs": [
    {
     "name": "stdout",
     "output_type": "stream",
     "text": [
      "{-68.287853: {'departamento_id': '26021', 'departamento_nombre': 'Escalante', 'lat': -45.591133, 'lon': -68.287853, 'municipio_id': None, 'municipio_nombre': None, 'provincia_id': '26', 'provincia_nombre': 'Chubut'}}\n"
     ]
    }
   ],
   "source": [
    "geo_dict = {}\n",
    "\n",
    "for item in ubicaciones:\n",
    "    lat = item[\"lat\"]\n",
    "    lon = item[\"lon\"]\n",
    "    info = item\n",
    "    \n",
    "    # Verificar si la clave de latitud existe\n",
    "    if lat not in geo_dict:\n",
    "        geo_dict[lat] = {}\n",
    "    \n",
    "    # Agregar el valor a la clave de longitud correspondiente\n",
    "    geo_dict[lat][lon] = info"
   ]
  },
  {
   "cell_type": "code",
   "execution_count": 55,
   "id": "ca71af47-da0f-43e1-97fb-16caadca660b",
   "metadata": {},
   "outputs": [
    {
     "name": "stdout",
     "output_type": "stream",
     "text": [
      "Index(['sigla', 'idpozo', 'area', 'cod_area', 'empresa', 'yacimiento',\n",
      "       'cod_yacimiento', 'formacion', 'cuenca', 'provincia', 'cota',\n",
      "       'profundidad', 'clasificacion', 'subclasificacion', 'tipo_recurso',\n",
      "       'sub_tipo_recurso', 'gasplus', 'tipopozo', 'tipoextraccion',\n",
      "       'tipoestado', 'adjiv_fecha_inicio_perf', 'adjiv_fecha_fin_perf',\n",
      "       'adjiv_fecha_inicio_term', 'adjiv_fecha_fin_term', 'geojson', 'geom',\n",
      "       'type', 'coordinates', 'coordinates_str'],\n",
      "      dtype='object')\n",
      "            sigla  idpozo                   area cod_area            empresa  \\\n",
      "0  CH.CH.EaLE.x-1     212  ESTANCIA LA ESCONDIDA      ECH  COLHUE HUAPI S.A.   \n",
      "1  CH.CH.EaLE.x-2     213  ESTANCIA LA ESCONDIDA      ECH  COLHUE HUAPI S.A.   \n",
      "2    CH.CH.EaLE-3     214  ESTANCIA LA ESCONDIDA      ECH  COLHUE HUAPI S.A.   \n",
      "3    CH.CH.EaLE-4     215  ESTANCIA LA ESCONDIDA      ECH  COLHUE HUAPI S.A.   \n",
      "4    CH.CH.EaLE-5     216  ESTANCIA LA ESCONDIDA      ECH  COLHUE HUAPI S.A.   \n",
      "\n",
      "              yacimiento cod_yacimiento           formacion           cuenca  \\\n",
      "0  ESTANCIA LA ESCONDIDA            ELA  comodoro rivadavia  GOLFO SAN JORGE   \n",
      "1  ESTANCIA LA ESCONDIDA            ELA  comodoro rivadavia  GOLFO SAN JORGE   \n",
      "2  ESTANCIA LA ESCONDIDA            ELA  comodoro rivadavia  GOLFO SAN JORGE   \n",
      "3  ESTANCIA LA ESCONDIDA            ELA  comodoro rivadavia  GOLFO SAN JORGE   \n",
      "4  ESTANCIA LA ESCONDIDA            ELA  comodoro rivadavia  GOLFO SAN JORGE   \n",
      "\n",
      "  provincia  ...             tipoestado  adjiv_fecha_inicio_perf  \\\n",
      "0    Chubut  ...    Extracción Efectiva               1996-10-30   \n",
      "1    Chubut  ...  En Inyección Efectiva               1996-10-14   \n",
      "2    Chubut  ...    Extracción Efectiva               1997-01-30   \n",
      "3    Chubut  ...    Extracción Efectiva               1997-01-13   \n",
      "4    Chubut  ...    Extracción Efectiva               1997-02-16   \n",
      "\n",
      "  adjiv_fecha_fin_perf adjiv_fecha_inicio_term adjiv_fecha_fin_term  \\\n",
      "0           1996-11-13              1996-11-17           1996-12-07   \n",
      "1           1996-11-13              1996-12-09           1996-12-17   \n",
      "2           1997-02-07              1997-03-02           1997-03-10   \n",
      "3           1997-01-20              1997-01-23           1997-02-07   \n",
      "4           1997-02-24              1997-03-10           1997-03-18   \n",
      "\n",
      "                                             geojson  \\\n",
      "0  {'type': 'Point', 'coordinates': [-68.287853, ...   \n",
      "1  {'type': 'Point', 'coordinates': [-68.292019, ...   \n",
      "2  {'type': 'Point', 'coordinates': [-68.283878, ...   \n",
      "3  {'type': 'Point', 'coordinates': [-68.289483, ...   \n",
      "4  {'type': 'Point', 'coordinates': [-68.294475, ...   \n",
      "\n",
      "                                                geom   type  \\\n",
      "0  0101000020E61000008D43FD2E6C1251C00E4B033FAACB...  Point   \n",
      "1  0101000020E6100000E1B37570B01251C00BB5A679C7CB...  Point   \n",
      "2  0101000020E61000007383A10E2B1251C082548A1D8DCB...  Point   \n",
      "3  0101000020E6100000DF6FB4E3861251C0A148F7730ACC...  Point   \n",
      "4  0101000020E6100000569FABADD81251C0B98D06F016CC...  Point   \n",
      "\n",
      "                coordinates         coordinates_str  \n",
      "0  [-68.287853, -45.591133]  -68.287853, -45.591133  \n",
      "1  [-68.292019, -45.592025]  -68.292019, -45.592025  \n",
      "2  [-68.283878, -45.590244]  -68.283878, -45.590244  \n",
      "3  [-68.289483, -45.594069]  -68.289483, -45.594069  \n",
      "4   [-68.294475, -45.59445]   -68.294475, -45.59445  \n",
      "\n",
      "[5 rows x 29 columns]\n"
     ]
    }
   ],
   "source": [
    "def lookup_info(row, geo_dict):\n",
    "    try:\n",
    "        coordenadas = row[\"coordinates_str\"]\n",
    "        coords = coordenadas.split(\",\")\n",
    "        lat = float(coords[1].strip())\n",
    "        lon = float(coords[0].strip())\n",
    "        if lat in geo_dict and lon in geo_dict[lat]:\n",
    "            return geo_dict[lat][lon]\n",
    "        else:\n",
    "            return None\n",
    "    except KeyError as e:\n",
    "        return None\n",
    "    except Exception as e:\n",
    "        return None\n",
    "\n",
    "# Revisar el DataFrame antes de aplicar\n",
    "print(dfPozosOriginal.columns)\n",
    "print(dfPozosOriginal.head())\n",
    "\n",
    "# Agregar la nueva columna\n",
    "dfPozosOriginal[\"info_coordenadas\"] = dfPozosOriginal.apply(\n",
    "    lambda row: lookup_info(row, geo_dict), axis=1\n",
    ")"
   ]
  },
  {
   "cell_type": "code",
   "execution_count": 56,
   "id": "bdffab73-1952-4e5f-a6a3-c316c75b493f",
   "metadata": {},
   "outputs": [
    {
     "name": "stdout",
     "output_type": "stream",
     "text": [
      "Número de valores None en la columna: 0\n"
     ]
    }
   ],
   "source": [
    "# Contar valores None en la columna\n",
    "none_count = dfPozosOriginal[\"info_coordenadas\"].isna().sum()\n",
    "\n",
    "print(f\"Número de valores None en la columna: {none_count}\")"
   ]
  },
  {
   "cell_type": "code",
   "execution_count": 58,
   "id": "306ccce1-40b5-494e-8af9-b02ec6e4ef53",
   "metadata": {},
   "outputs": [],
   "source": [
    "dfPozosOriginal.to_csv('Downloads/pozos-con-geo-info.csv')"
   ]
  },
  {
   "cell_type": "code",
   "execution_count": 59,
   "id": "bf2858d0-9d73-4457-bbb5-d4b5ddf4179f",
   "metadata": {},
   "outputs": [
    {
     "name": "stdout",
     "output_type": "stream",
     "text": [
      "Index(['sigla', 'idpozo', 'area', 'cod_area', 'empresa', 'yacimiento',\n",
      "       'cod_yacimiento', 'formacion', 'cuenca', 'provincia', 'cota',\n",
      "       'profundidad', 'clasificacion', 'subclasificacion', 'tipo_recurso',\n",
      "       'sub_tipo_recurso', 'gasplus', 'tipopozo', 'tipoextraccion',\n",
      "       'tipoestado', 'adjiv_fecha_inicio_perf', 'adjiv_fecha_fin_perf',\n",
      "       'adjiv_fecha_inicio_term', 'adjiv_fecha_fin_term', 'geojson', 'geom',\n",
      "       'type', 'coordinates', 'coordinates_str', 'info_coordenadas'],\n",
      "      dtype='object')\n"
     ]
    }
   ],
   "source": [
    "print(dfPozosOriginal.columns)"
   ]
  },
  {
   "cell_type": "code",
   "execution_count": 67,
   "id": "3fddd297-fefa-4e31-9739-5b6d9f19d268",
   "metadata": {},
   "outputs": [
    {
     "name": "stdout",
     "output_type": "stream",
     "text": [
      "0        {'departamento_id': '26021', 'departamento_nom...\n",
      "1        {'departamento_id': '26021', 'departamento_nom...\n",
      "2        {'departamento_id': '26021', 'departamento_nom...\n",
      "3        {'departamento_id': '26021', 'departamento_nom...\n",
      "4        {'departamento_id': '26021', 'departamento_nom...\n",
      "                               ...                        \n",
      "84327    {'departamento_id': '58014', 'departamento_nom...\n",
      "84328    {'departamento_id': '58014', 'departamento_nom...\n",
      "84329    {'departamento_id': '58014', 'departamento_nom...\n",
      "84330    {'departamento_id': '78028', 'departamento_nom...\n",
      "84331    {'departamento_id': '42112', 'departamento_nom...\n",
      "Name: info_coordenadas, Length: 84332, dtype: object\n",
      "[<class 'dict'>]\n",
      "Index(['sigla', 'idpozo', 'area', 'cod_area', 'empresa', 'yacimiento',\n",
      "       'cod_yacimiento', 'formacion', 'cuenca', 'provincia', 'cota',\n",
      "       'profundidad', 'clasificacion', 'subclasificacion', 'tipo_recurso',\n",
      "       'sub_tipo_recurso', 'gasplus', 'tipopozo', 'tipoextraccion',\n",
      "       'tipoestado', 'adjiv_fecha_inicio_perf', 'adjiv_fecha_fin_perf',\n",
      "       'adjiv_fecha_inicio_term', 'adjiv_fecha_fin_term', 'geojson', 'geom',\n",
      "       'type', 'coordinates', 'coordinates_str', 'info_coordenadas',\n",
      "       'departamento_id', 'departamento_nombre', 'lat', 'lon', 'municipio_id',\n",
      "       'municipio_nombre', 'provincia_id', 'provincia_nombre'],\n",
      "      dtype='object')\n"
     ]
    }
   ],
   "source": [
    "# Convertir la columna JSON en un diccionario\n",
    "print(dfPozosOriginal[\"info_coordenadas\"])\n",
    "print(dfPozosOriginal['info_coordenadas'].apply(type).unique())\n",
    "\n",
    "df = pd.DataFrame()\n",
    "df = dfPozosOriginal\n",
    "# df['info_coordenadas'] = dfPozosOriginal['info_coordenadas'].apply(json.loads)\n",
    "\n",
    "# Expandir las claves del JSON en nuevas columnas\n",
    "expanded_df_2 = pd.json_normalize(df['info_coordenadas'])\n",
    "final_table_columns = dfPozosOriginal.columns\n",
    "# final_table_columns.append('')\n",
    "# # Combinar las columnas originales con las nuevas\n",
    "dfPozosOriginal_conProvincia = pd.concat([dfPozosOriginal, expanded_df_2], axis=1)\n",
    "print(dfPozosOriginal_conProvincia.columns)\n"
   ]
  },
  {
   "cell_type": "code",
   "execution_count": 68,
   "id": "d35b788a-0745-4fc3-b6fa-f0213bb37113",
   "metadata": {},
   "outputs": [
    {
     "name": "stdout",
     "output_type": "stream",
     "text": [
      "                   sigla  idpozo                               area cod_area  \\\n",
      "0         CH.CH.EaLE.x-1     212              ESTANCIA LA ESCONDIDA      ECH   \n",
      "1         CH.CH.EaLE.x-2     213              ESTANCIA LA ESCONDIDA      ECH   \n",
      "2           CH.CH.EaLE-3     214              ESTANCIA LA ESCONDIDA      ECH   \n",
      "3           CH.CH.EaLE-4     215              ESTANCIA LA ESCONDIDA      ECH   \n",
      "4           CH.CH.EaLE-5     216              ESTANCIA LA ESCONDIDA      ECH   \n",
      "...                  ...     ...                                ...      ...   \n",
      "84327  SHE.Nq.SB-1046(h)  165740                    SIERRAS BLANCAS     SBLA   \n",
      "84328  SHE.Nq.SB-1047(h)  165741                    SIERRAS BLANCAS     SBLA   \n",
      "84329  SHE.Nq.SB-1048(h)  165742                    SIERRAS BLANCAS     SBLA   \n",
      "84330   CGC.SCA.ECN.a-15  165743     CAMPO INDIO ESTE - EL CERRITO      CIEC   \n",
      "84331      PC.LP.EM-1211  165744  25 DE MAYO - MEDANITO SUD ESTE LP     VELP   \n",
      "\n",
      "                                     empresa  \\\n",
      "0                          COLHUE HUAPI S.A.   \n",
      "1                          COLHUE HUAPI S.A.   \n",
      "2                          COLHUE HUAPI S.A.   \n",
      "3                          COLHUE HUAPI S.A.   \n",
      "4                          COLHUE HUAPI S.A.   \n",
      "...                                      ...   \n",
      "84327                   SHELL ARGENTINA S.A.   \n",
      "84328                   SHELL ARGENTINA S.A.   \n",
      "84329                   SHELL ARGENTINA S.A.   \n",
      "84330  COMPAÑÍA GENERAL DE COMBUSTIBLES S.A.   \n",
      "84331   PETROQUIMICA COMODORO RIVADAVIA S.A.   \n",
      "\n",
      "                             yacimiento cod_yacimiento           formacion  \\\n",
      "0                 ESTANCIA LA ESCONDIDA            ELA  comodoro rivadavia   \n",
      "1                 ESTANCIA LA ESCONDIDA            ELA  comodoro rivadavia   \n",
      "2                 ESTANCIA LA ESCONDIDA            ELA  comodoro rivadavia   \n",
      "3                 ESTANCIA LA ESCONDIDA            ELA  comodoro rivadavia   \n",
      "4                 ESTANCIA LA ESCONDIDA            ELA  comodoro rivadavia   \n",
      "...                                 ...            ...                 ...   \n",
      "84327                   SIERRAS BLANCAS           SIBL         vaca muerta   \n",
      "84328                   SIERRAS BLANCAS           SIBL         vaca muerta   \n",
      "84329                   SIERRAS BLANCAS           SIBL         vaca muerta   \n",
      "84330                  EL CERRITO NORTE           ECNO          magallanes   \n",
      "84331  25 DE MAYO - MEDANITO SUDESTE LP           VELP             choiyoi   \n",
      "\n",
      "                cuenca   provincia  ...                       coordinates_str  \\\n",
      "0      GOLFO SAN JORGE      Chubut  ...                -68.287853, -45.591133   \n",
      "1      GOLFO SAN JORGE      Chubut  ...                -68.292019, -45.592025   \n",
      "2      GOLFO SAN JORGE      Chubut  ...                -68.283878, -45.590244   \n",
      "3      GOLFO SAN JORGE      Chubut  ...                -68.289483, -45.594069   \n",
      "4      GOLFO SAN JORGE      Chubut  ...                 -68.294475, -45.59445   \n",
      "...                ...         ...  ...                                   ...   \n",
      "84327         NEUQUINA     Neuquén  ...  -68.4378127268833, -38.4717653247677   \n",
      "84328         NEUQUINA     Neuquén  ...  -68.4376418570179, -38.4717644866085   \n",
      "84329         NEUQUINA     Neuquén  ...  -68.4374699980141, -38.4717641208992   \n",
      "84330          AUSTRAL  Santa Cruz  ...                  -71.33861, -50.53196   \n",
      "84331         NEUQUINA    La Pampa  ...                  -67.86578, -38.01833   \n",
      "\n",
      "                                        info_coordenadas departamento_id  \\\n",
      "0      {'departamento_id': '26021', 'departamento_nom...           26021   \n",
      "1      {'departamento_id': '26021', 'departamento_nom...           26021   \n",
      "2      {'departamento_id': '26021', 'departamento_nom...           26021   \n",
      "3      {'departamento_id': '26021', 'departamento_nom...           26021   \n",
      "4      {'departamento_id': '26021', 'departamento_nom...           26021   \n",
      "...                                                  ...             ...   \n",
      "84327  {'departamento_id': '58014', 'departamento_nom...           58014   \n",
      "84328  {'departamento_id': '58014', 'departamento_nom...           58014   \n",
      "84329  {'departamento_id': '58014', 'departamento_nom...           58014   \n",
      "84330  {'departamento_id': '78028', 'departamento_nom...           78028   \n",
      "84331  {'departamento_id': '42112', 'departamento_nom...           42112   \n",
      "\n",
      "      departamento_nombre        lat        lon municipio_id  \\\n",
      "0               Escalante -45.591133 -68.287853         None   \n",
      "1               Escalante -45.592025 -68.292019         None   \n",
      "2               Escalante -45.590244 -68.283878         None   \n",
      "3               Escalante -45.594069 -68.289483         None   \n",
      "4               Escalante -45.594450 -68.294475         None   \n",
      "...                   ...        ...        ...          ...   \n",
      "84327               Añelo -38.471765 -68.437813         None   \n",
      "84328               Añelo -38.471764 -68.437642         None   \n",
      "84329               Añelo -38.471764 -68.437470         None   \n",
      "84330      Lago Argentino -50.531960 -71.338610         None   \n",
      "84331              Puelén -38.018330 -67.865780       420385   \n",
      "\n",
      "         municipio_nombre provincia_id provincia_nombre  \n",
      "0                    None           26           Chubut  \n",
      "1                    None           26           Chubut  \n",
      "2                    None           26           Chubut  \n",
      "3                    None           26           Chubut  \n",
      "4                    None           26           Chubut  \n",
      "...                   ...          ...              ...  \n",
      "84327                None           58          Neuquén  \n",
      "84328                None           58          Neuquén  \n",
      "84329                None           58          Neuquén  \n",
      "84330                None           78       Santa Cruz  \n",
      "84331  Colonia 25 de Mayo           42         La Pampa  \n",
      "\n",
      "[84332 rows x 38 columns]\n"
     ]
    }
   ],
   "source": [
    "print(dfPozosOriginal_conProvincia)"
   ]
  },
  {
   "cell_type": "code",
   "execution_count": 75,
   "id": "4a273a25-8920-46b9-9680-7121c6f73924",
   "metadata": {},
   "outputs": [],
   "source": [
    "dfPozosOriginal_conProvincia.to_csv('Downloads/pozos-con-geo-info-columnas.csv')"
   ]
  },
  {
   "cell_type": "code",
   "execution_count": 74,
   "id": "77605785-3a58-43af-8b97-388e8e70ad6b",
   "metadata": {},
   "outputs": [
    {
     "name": "stdout",
     "output_type": "stream",
     "text": [
      "      departamento_id departamento_nombre        lat        lon municipio_id  \\\n",
      "0               26021           Escalante -45.591133 -68.287853         None   \n",
      "1               26021           Escalante -45.592025 -68.292019         None   \n",
      "2               26021           Escalante -45.590244 -68.283878         None   \n",
      "3               26021           Escalante -45.594069 -68.289483         None   \n",
      "4               26021           Escalante -45.594450 -68.294475         None   \n",
      "...               ...                 ...        ...        ...          ...   \n",
      "77799           58014               Añelo -38.471765 -68.437813         None   \n",
      "77800           58014               Añelo -38.471764 -68.437642         None   \n",
      "77801           58014               Añelo -38.471764 -68.437470         None   \n",
      "77802           78028      Lago Argentino -50.531960 -71.338610         None   \n",
      "77803           42112              Puelén -38.018330 -67.865780       420385   \n",
      "\n",
      "         municipio_nombre provincia_id provincia_nombre  \n",
      "0                    None           26           Chubut  \n",
      "1                    None           26           Chubut  \n",
      "2                    None           26           Chubut  \n",
      "3                    None           26           Chubut  \n",
      "4                    None           26           Chubut  \n",
      "...                   ...          ...              ...  \n",
      "77799                None           58          Neuquén  \n",
      "77800                None           58          Neuquén  \n",
      "77801                None           58          Neuquén  \n",
      "77802                None           78       Santa Cruz  \n",
      "77803  Colonia 25 de Mayo           42         La Pampa  \n",
      "\n",
      "[77804 rows x 8 columns]\n"
     ]
    }
   ],
   "source": [
    "dfUbi = pd.DataFrame.from_records(ubicaciones)\n",
    "print(dfUbi)\n",
    "dfUbi.to_csv('Downloads/API-coordenadas.csv')"
   ]
  },
  {
   "cell_type": "code",
   "execution_count": 76,
   "id": "d9c6ebde-e760-484d-a0e3-f1ea89fc1f09",
   "metadata": {},
   "outputs": [
    {
     "name": "stdout",
     "output_type": "stream",
     "text": [
      "Número de valores None en la columna: 0\n"
     ]
    }
   ],
   "source": [
    "# Contar valores None en la columna\n",
    "none_count = dfPozosOriginal[\"coordinates\"].isna().sum()\n",
    "\n",
    "print(f\"Número de valores None en la columna: {none_count}\")"
   ]
  },
  {
   "cell_type": "code",
   "execution_count": 82,
   "id": "af2f22aa-6c5d-4872-a076-9bdd11c7c679",
   "metadata": {},
   "outputs": [
    {
     "name": "stdout",
     "output_type": "stream",
     "text": [
      "Index(['idempresa', 'anio', 'mes', 'idpozo', 'prod_pet', 'prod_gas',\n",
      "       'prod_agua', 'iny_agua', 'iny_gas', 'iny_co2', 'iny_otro', 'tef',\n",
      "       'vida_util', 'tipoextraccion_x', 'tipoestado_x', 'tipopozo_x',\n",
      "       'observaciones', 'fechaingreso', 'rectificado', 'habilitado',\n",
      "       'idusuario', 'empresa_x', 'sigla_x', 'formprod', 'profundidad_x',\n",
      "       'formacion_x', 'idareapermisoconcesion', 'areapermisoconcesion',\n",
      "       'idareayacimiento', 'areayacimiento', 'cuenca_x', 'provincia_x',\n",
      "       'tipo_de_recurso', 'proyecto', 'clasificacion_x', 'subclasificacion_x',\n",
      "       'sub_tipo_recurso_x', 'fecha_data', 'sigla_y', 'area', 'cod_area',\n",
      "       'empresa_y', 'yacimiento', 'cod_yacimiento', 'formacion_y', 'cuenca_y',\n",
      "       'provincia_y', 'cota', 'profundidad_y', 'clasificacion_y',\n",
      "       'subclasificacion_y', 'tipo_recurso', 'sub_tipo_recurso_y', 'gasplus',\n",
      "       'tipopozo_y', 'tipoextraccion_y', 'tipoestado_y',\n",
      "       'adjiv_fecha_inicio_perf', 'adjiv_fecha_fin_perf',\n",
      "       'adjiv_fecha_inicio_term', 'adjiv_fecha_fin_term', 'geojson', 'geom',\n",
      "       'coincide'],\n",
      "      dtype='object')\n",
      "Número de valores None en la columna: 20\n"
     ]
    }
   ],
   "source": [
    "print(df_combinado.columns)\n",
    "# Contar valores None en la columna\n",
    "none_count = df_combinado[\"coincide\"].isna().sum()\n",
    "\n",
    "print(f\"Número de valores None en la columna: {none_count}\")"
   ]
  },
  {
   "cell_type": "code",
   "execution_count": 83,
   "id": "8a112841-73f9-4fe3-8ff1-4c2453cf1ebe",
   "metadata": {},
   "outputs": [
    {
     "name": "stdout",
     "output_type": "stream",
     "text": [
      "0         False\n",
      "1         False\n",
      "2         False\n",
      "3         False\n",
      "4         False\n",
      "          ...  \n",
      "254025    False\n",
      "254026    False\n",
      "254027    False\n",
      "254028    False\n",
      "254029    False\n",
      "Name: coincide, Length: 254030, dtype: bool\n"
     ]
    }
   ],
   "source": [
    "none_coincide = df_combinado[\"coincide\"].isna()\n",
    "print(none_coincide)\n",
    "filtered_df = df_combinado[df_combinado['coincide'].isna()]"
   ]
  },
  {
   "cell_type": "code",
   "execution_count": 139,
   "id": "3da6fcee-94db-4266-a69a-f5e02b6312d2",
   "metadata": {},
   "outputs": [
    {
     "name": "stderr",
     "output_type": "stream",
     "text": [
      "/var/folders/r_/x2vzgchn7xg93cptq09838d91bmbgx/T/ipykernel_67648/2475794742.py:6: DtypeWarning: Columns (16,36) have mixed types. Specify dtype option on import or set low_memory=False.\n",
      "  dfPozosTodo = pd.read_csv('Downloads/pozos-prod.csv')\n"
     ]
    },
    {
     "name": "stdout",
     "output_type": "stream",
     "text": [
      "818741\n",
      "818741\n",
      "316\n"
     ]
    }
   ],
   "source": [
    "#Chequeo de consistencia prod contra pozos\n",
    "# Cargo info de Capitulo IV Pozos\n",
    "dfPozosInfo = pd.read_csv('Downloads/pozos.csv')\n",
    "dfPozosInfo['coincide'] = True\n",
    "# Produccion de pozos\n",
    "dfPozosTodo = pd.read_csv('Downloads/pozos-prod.csv')\n",
    "print(len(dfPozosTodo))\n",
    "dfPozosTodo = dfPozosTodo.loc[(dfPozosTodo['anio']==2024)]\n",
    "dfPozosTodo.reset_index(inplace=True)\n",
    "# Unir las ocurrencias con el DataFrame original\n",
    "df_combinado = pd.DataFrame()\n",
    "df_combinado = pd.merge(dfPozosTodo, dfPozosInfo, on=['idpozo'], how='left')\n",
    "print(len(df_combinado))\n",
    "df_filtrado = df_combinado[df_combinado['coincide'] == True]\n",
    "print(len(dfPozosTodo)-len(df_filtrado))"
   ]
  },
  {
   "cell_type": "code",
   "execution_count": null,
   "id": "6ef9d5b5-0185-4d2c-8115-c969c7424f26",
   "metadata": {},
   "outputs": [],
   "source": [
    "# df_filtrado.to_csv('Downloads/pozos-con-geo-info-columnas.csv')"
   ]
  },
  {
   "cell_type": "code",
   "execution_count": 140,
   "id": "ed5ee155-45e7-4c9a-9c76-bf3efdd24e6a",
   "metadata": {},
   "outputs": [
    {
     "name": "stdout",
     "output_type": "stream",
     "text": [
      "818425\n"
     ]
    }
   ],
   "source": [
    "print(len(df_filtrado))"
   ]
  },
  {
   "cell_type": "code",
   "execution_count": 167,
   "id": "801b81e5-6629-4aef-821f-168f02fd321b",
   "metadata": {},
   "outputs": [],
   "source": [
    "def calculo_outliers(df):\n",
    "# Cálculo de cuartiles y IQR\n",
    "    Q1 = df['prod_pet'].quantile(0.25)\n",
    "    Q3 = df['prod_pet'].quantile(0.75)\n",
    "    IQR = Q3 - Q1\n",
    "    \n",
    "    # Limites para detectar outliers\n",
    "    lower_bound = Q1 - 1.5 * IQR\n",
    "    upper_bound = Q3 + 1.5 * IQR\n",
    "\n",
    "    \n",
    "    # Filtrar outliers\n",
    "    outliers = df[(df['prod_pet'] < lower_bound) | (df['prod_pet'] > upper_bound)]['prod_pet']\n",
    "    return outliers\n",
    "    "
   ]
  },
  {
   "cell_type": "code",
   "execution_count": 168,
   "id": "389cb241-dc09-4463-b114-3739b89b3d33",
   "metadata": {},
   "outputs": [],
   "source": [
    "\n",
    "idsPozos = df_filtrado['idpozo'].unique()\n",
    "outliersXPozo = dict()\n",
    "cantOutliers = 0\n",
    "for idP in idsPozos:\n",
    "    dfPozoProdUnique = df_filtrado[df_filtrado['idpozo'] == idP]\n",
    "    out = calculo_outliers(dfPozoProdUnique)\n",
    "    cantOutliers += len(out) \n",
    "    outliersXPozo[idP] = out\n"
   ]
  },
  {
   "cell_type": "code",
   "execution_count": 169,
   "id": "9360dd81-211f-4da5-9172-1068f923a28d",
   "metadata": {},
   "outputs": [
    {
     "name": "stdout",
     "output_type": "stream",
     "text": [
      "82188\n",
      "82188\n"
     ]
    }
   ],
   "source": [
    "print(len(idsPozos))\n",
    "print(len(outliersXPozo))"
   ]
  },
  {
   "cell_type": "code",
   "execution_count": 170,
   "id": "cc572638-44b4-45f0-80b0-a04b23f61984",
   "metadata": {},
   "outputs": [
    {
     "data": {
      "text/plain": [
       "14734"
      ]
     },
     "execution_count": 170,
     "metadata": {},
     "output_type": "execute_result"
    }
   ],
   "source": [
    "cantOutliers"
   ]
  },
  {
   "cell_type": "code",
   "execution_count": 171,
   "id": "545a9703-2ca1-4fc0-a753-e9e6e0ceece5",
   "metadata": {},
   "outputs": [
    {
     "name": "stdout",
     "output_type": "stream",
     "text": [
      "Si\n"
     ]
    }
   ],
   "source": [
    "for d in outliersXPozo.values():\n",
    "    if 0 in d.values:\n",
    "        print(\"Si\")\n",
    "        break"
   ]
  },
  {
   "cell_type": "code",
   "execution_count": 172,
   "id": "3ad10529-bf92-4225-a2d7-6ecc0fe37dd8",
   "metadata": {},
   "outputs": [
    {
     "data": {
      "text/plain": [
       "Series([], Name: prod_pet, dtype: float64)"
      ]
     },
     "execution_count": 172,
     "metadata": {},
     "output_type": "execute_result"
    }
   ],
   "source": [
    "outliersXPozo[164941]"
   ]
  },
  {
   "cell_type": "code",
   "execution_count": 173,
   "id": "9fec4c33-b425-4f4b-9320-97533e497053",
   "metadata": {},
   "outputs": [
    {
     "name": "stdout",
     "output_type": "stream",
     "text": [
      "Si\n"
     ]
    }
   ],
   "source": [
    "if 164941 in idsPozos:\n",
    "        print(\"Si\")\n",
    "        "
   ]
  },
  {
   "cell_type": "code",
   "execution_count": null,
   "id": "d906f866-5afe-4aa8-bb81-0f66bd974265",
   "metadata": {},
   "outputs": [],
   "source": []
  }
 ],
 "metadata": {
  "kernelspec": {
   "display_name": "Python 3 (ipykernel)",
   "language": "python",
   "name": "python3"
  },
  "language_info": {
   "codemirror_mode": {
    "name": "ipython",
    "version": 3
   },
   "file_extension": ".py",
   "mimetype": "text/x-python",
   "name": "python",
   "nbconvert_exporter": "python",
   "pygments_lexer": "ipython3",
   "version": "3.9.6"
  }
 },
 "nbformat": 4,
 "nbformat_minor": 5
}
