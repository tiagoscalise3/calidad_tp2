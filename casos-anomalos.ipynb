{
 "cells": [
  {
   "cell_type": "code",
   "execution_count": 4,
   "id": "6c99f830-0b96-422b-ab89-47dadba903d7",
   "metadata": {},
   "outputs": [],
   "source": [
    "import json\n",
    "import numpy as np\n",
    "import pandas as pd\n",
    "from inline_sql import sql \n",
    "import matplotlib.pyplot as plt\n",
    "from matplotlib.ticker import FuncFormatter"
   ]
  },
  {
   "cell_type": "markdown",
   "id": "03d2ca5b-63a7-49ec-9e64-b8855e3316f0",
   "metadata": {},
   "source": [
    "# Importación tablas"
   ]
  },
  {
   "cell_type": "code",
   "execution_count": 8,
   "id": "571902b4-d0e9-483e-bf81-8c7cdd9ae66f",
   "metadata": {},
   "outputs": [
    {
     "name": "stderr",
     "output_type": "stream",
     "text": [
      "C:\\Users\\carri\\AppData\\Local\\Temp\\ipykernel_21100\\1126773726.py:2: DtypeWarning: Columns (17) have mixed types. Specify dtype option on import or set low_memory=False.\n",
      "  produccion = pd.read_csv(\"prod-no-nula.csv\")\n"
     ]
    },
    {
     "data": {
      "text/plain": [
       "True"
      ]
     },
     "execution_count": 8,
     "metadata": {},
     "output_type": "execute_result"
    }
   ],
   "source": [
    "pozos = pd.read_csv(\"pozos-limpios.csv\")\n",
    "produccion = pd.read_csv(\"prod-no-nula.csv\")\n",
    "produccion = produccion[produccion['idpozo'].isin(pozos['idpozo'])]\n",
    "\n",
    "len(produccion['idpozo'].unique()) == len(pozos['idpozo'].unique())"
   ]
  },
  {
   "cell_type": "markdown",
   "id": "7c94b619-1557-4ae7-8a17-018a64d93023",
   "metadata": {},
   "source": [
    "# F)"
   ]
  },
  {
   "cell_type": "code",
   "execution_count": 3,
   "id": "0fb8c9fd-3081-4970-bbe3-3bc638d20a20",
   "metadata": {},
   "outputs": [],
   "source": [
    "def pozo_outliers (df, id_pozo, plot):\n",
    "    # Producciones de 2024 del pozo\n",
    "    meses = df[df['idpozo'] == id_pozo][['idpozo', 'mes', 'prod_pet', 'prod_gas']]\n",
    "    # Cuartiles Petroleo\n",
    "    Q1 = np.percentile(meses['prod_pet'], 25)\n",
    "    Q3 = np.percentile(meses['prod_pet'], 75)\n",
    "    # Bigotes Petroleo\n",
    "    bigote_sup = Q3 + 1.5*(Q3-Q1)\n",
    "    bigote_inf = Q1 - 1.5*(Q3-Q1)\n",
    "    # Anómalo Petroleo\n",
    "    meses['anomalo_pet'] =  (meses['prod_pet'] < bigote_inf) | (meses['prod_pet'] > bigote_sup)\n",
    "\n",
    "    if (plot):\n",
    "        def formatter(x, pos):\n",
    "            return f'{x:,.0f}'\n",
    "            \n",
    "        colores = ['red', 'yellow', 'green']\n",
    "        condiciones = [(meses['prod_pet'] < bigote_inf) | (meses['prod_pet'] > bigote_sup),\n",
    "                       (meses['prod_pet'] >= bigote_inf) & (meses['prod_pet'] <= bigote_sup) & ((meses['prod_pet'] < Q1) | (meses['prod_pet'] > Q3)),\n",
    "                       (meses['prod_pet'] >= Q1) & (meses['prod_pet'] <= Q3)]\n",
    "        colores = ['red', 'orange', 'green']\n",
    "        meses['color'] = np.select(condiciones, colores, default='gray')\n",
    "        \n",
    "        fig, ax = plt.subplots(figsize=(7,4))\n",
    "\n",
    "        ax.plot(meses['mes'], meses['prod_pet'], color='black', linewidth=0.7)\n",
    "        ax.set_ylim(ymin=max(0,ax.get_ylim()[0]) , ymax=ax.get_ylim()[1])\n",
    "        \n",
    "        ax.axhline(y=bigote_sup, linestyle='--', color='red', linewidth=0.5)\n",
    "        ax.axhspan(bigote_sup, ax.get_ylim()[1], color='red', alpha=0.1)\n",
    "        \n",
    "        ax.axhline(y=bigote_inf, linestyle='--', color='red', linewidth=0.5)\n",
    "        ax.axhspan(ax.get_ylim()[0], bigote_inf, color='red', alpha=0.1)\n",
    "        \n",
    "        ax.axhline(y=Q1, linestyle='--', color='orange', linewidth=0.5)\n",
    "        ax.axhspan(bigote_inf, Q1, color='orange', alpha=0.1)\n",
    "        \n",
    "        ax.axhline(y=Q3, linestyle='--', color='orange', linewidth=0.5)\n",
    "        ax.axhspan(Q3, bigote_sup, color='orange', alpha=0.1)\n",
    "\n",
    "        ax.axhspan(Q1, Q3, color='green', alpha=0.1)\n",
    "        ax.grid(axis='x', linewidth=0.5, linestyle='--')\n",
    "\n",
    "        ax.scatter(meses['mes'], meses['prod_pet'], c=meses['color'], alpha=1, s=50)\n",
    "        ax.set(xticks=meses['mes'])\n",
    "        ax.set_xlabel('Mes')\n",
    "        ax.set_ylabel(f'Producción de petróleo (m3\\n (Pozo {id_pozo})')\n",
    "    \n",
    "    # Cuartiles Gas\n",
    "    Q1 = np.percentile(meses['prod_gas'], 25)\n",
    "    Q3 = np.percentile(meses['prod_gas'], 75)\n",
    "    # Bigotes Gas\n",
    "    bigote_sup = Q3 + 1.5*(Q3-Q1)\n",
    "    bigote_inf = Q1 - 1.5*(Q3-Q1)\n",
    "    # Anómalo Gas\n",
    "    meses['anomalo_gas'] =  (meses['prod_gas'] < bigote_inf) | (meses['prod_gas'] > bigote_sup)\n",
    "    \n",
    "    if (plot):\n",
    "        def formatter(x, pos):\n",
    "            return f'{x:,.0f}'\n",
    "            \n",
    "        colores = ['red', 'orange', 'green']\n",
    "        condiciones = [(meses['prod_gas'] < bigote_inf) | (meses['prod_gas'] > bigote_sup),\n",
    "                       (meses['prod_gas'] >= bigote_inf) & (meses['prod_gas'] <= bigote_sup) & ((meses['prod_gas'] < Q1) | (meses['prod_gas'] > Q3)),\n",
    "                       (meses['prod_gas'] >= Q1) & (meses['prod_gas'] <= Q3)]\n",
    "        meses['color'] = np.select(condiciones, colores, default='gray')\n",
    "        \n",
    "        fig, ax = plt.subplots(figsize=(7,4))\n",
    "        \n",
    "        ax.plot(meses['mes'], meses['prod_gas'], color='black', linewidth=0.7)\n",
    "        ax.set_ylim(ymin=max(0,ax.get_ylim()[0]), ymax=ax.get_ylim()[1])\n",
    "        \n",
    "        ax.axhline(y=bigote_sup, linestyle='--', color='red', linewidth=0.5)\n",
    "        ax.axhspan(bigote_sup, ax.get_ylim()[1], color='red', alpha=0.1)\n",
    "        \n",
    "        ax.axhline(y=bigote_inf, linestyle='--', color='red', linewidth=0.5)\n",
    "        ax.axhspan(ax.get_ylim()[0], bigote_inf, color='red', alpha=0.1)\n",
    "        \n",
    "        ax.axhline(y=Q1, linestyle='--', color='orange', linewidth=0.5)\n",
    "        ax.axhspan(bigote_inf, Q1, color='orange', alpha=0.1)\n",
    "        \n",
    "        ax.axhline(y=Q3, linestyle='--', color='orange', linewidth=0.5)\n",
    "        ax.axhspan(Q3, bigote_sup, color='orange', alpha=0.1)\n",
    "\n",
    "        ax.axhspan(Q1, Q3, color='green', alpha=0.1)\n",
    "        ax.grid(axis='x', linewidth=0.5, linestyle='--')\n",
    "        \n",
    "        ax.scatter(meses['mes'], meses['prod_gas'], c=meses['color'], alpha=1, s=50)\n",
    "        ax.set(xticks=meses['mes'])\n",
    "        ax.set_xlabel('Mes')\n",
    "        ax.set_ylabel(f'Producción de gas (mm3)\\n (Pozo {id_pozo})')\n",
    "        \n",
    "    return meses[['mes', 'anomalo_pet', 'anomalo_gas']]\n",
    "    "
   ]
  },
  {
   "cell_type": "code",
   "execution_count": 4,
   "id": "1f0663c2-c3cc-440d-a531-f4a80f6d3bae",
   "metadata": {},
   "outputs": [
    {
     "data": {
      "text/html": [
       "<div>\n",
       "<style scoped>\n",
       "    .dataframe tbody tr th:only-of-type {\n",
       "        vertical-align: middle;\n",
       "    }\n",
       "\n",
       "    .dataframe tbody tr th {\n",
       "        vertical-align: top;\n",
       "    }\n",
       "\n",
       "    .dataframe thead th {\n",
       "        text-align: right;\n",
       "    }\n",
       "</style>\n",
       "<table border=\"1\" class=\"dataframe\">\n",
       "  <thead>\n",
       "    <tr style=\"text-align: right;\">\n",
       "      <th></th>\n",
       "      <th>mes</th>\n",
       "      <th>anomalo_pet</th>\n",
       "      <th>anomalo_gas</th>\n",
       "    </tr>\n",
       "  </thead>\n",
       "  <tbody>\n",
       "    <tr>\n",
       "      <th>94</th>\n",
       "      <td>1</td>\n",
       "      <td>False</td>\n",
       "      <td>False</td>\n",
       "    </tr>\n",
       "    <tr>\n",
       "      <th>24833</th>\n",
       "      <td>2</td>\n",
       "      <td>False</td>\n",
       "      <td>False</td>\n",
       "    </tr>\n",
       "    <tr>\n",
       "      <th>36216</th>\n",
       "      <td>3</td>\n",
       "      <td>False</td>\n",
       "      <td>False</td>\n",
       "    </tr>\n",
       "    <tr>\n",
       "      <th>50201</th>\n",
       "      <td>4</td>\n",
       "      <td>False</td>\n",
       "      <td>False</td>\n",
       "    </tr>\n",
       "    <tr>\n",
       "      <th>62429</th>\n",
       "      <td>5</td>\n",
       "      <td>False</td>\n",
       "      <td>False</td>\n",
       "    </tr>\n",
       "    <tr>\n",
       "      <th>74495</th>\n",
       "      <td>6</td>\n",
       "      <td>True</td>\n",
       "      <td>False</td>\n",
       "    </tr>\n",
       "    <tr>\n",
       "      <th>87011</th>\n",
       "      <td>7</td>\n",
       "      <td>True</td>\n",
       "      <td>False</td>\n",
       "    </tr>\n",
       "    <tr>\n",
       "      <th>99790</th>\n",
       "      <td>8</td>\n",
       "      <td>False</td>\n",
       "      <td>False</td>\n",
       "    </tr>\n",
       "    <tr>\n",
       "      <th>112828</th>\n",
       "      <td>9</td>\n",
       "      <td>False</td>\n",
       "      <td>False</td>\n",
       "    </tr>\n",
       "    <tr>\n",
       "      <th>127855</th>\n",
       "      <td>10</td>\n",
       "      <td>False</td>\n",
       "      <td>False</td>\n",
       "    </tr>\n",
       "  </tbody>\n",
       "</table>\n",
       "</div>"
      ],
      "text/plain": [
       "        mes  anomalo_pet  anomalo_gas\n",
       "94        1        False        False\n",
       "24833     2        False        False\n",
       "36216     3        False        False\n",
       "50201     4        False        False\n",
       "62429     5        False        False\n",
       "74495     6         True        False\n",
       "87011     7         True        False\n",
       "99790     8        False        False\n",
       "112828    9        False        False\n",
       "127855   10        False        False"
      ]
     },
     "execution_count": 4,
     "metadata": {},
     "output_type": "execute_result"
    },
    {
     "data": {
      "image/png": "[encoded data removed]",
      "text/plain": [
       "<Figure size 700x400 with 1 Axes>"
      ]
     },
     "metadata": {},
     "output_type": "display_data"
    },
    {
     "data": {
      "image/png": "[encoded data removed]",
      "text/plain": [
       "<Figure size 700x400 with 1 Axes>"
      ]
     },
     "metadata": {},
     "output_type": "display_data"
    }
   ],
   "source": [
    "pozo_outliers(produccion, 164019, True)"
   ]
  },
  {
   "cell_type": "code",
   "execution_count": 5,
   "id": "0bcb6491-b0e0-428c-bd84-a26b0858006a",
   "metadata": {},
   "outputs": [],
   "source": [
    "def outliers (produccion, rango):\n",
    "    outliers_pet = {}\n",
    "    outliers_gas = {}\n",
    "    ids = produccion['idpozo'].unique()\n",
    "    for i in range (rango[0], rango[1]):\n",
    "        idpozo = int(ids[i])\n",
    "        # Outliers del pozo\n",
    "        outliers = pozo_outliers(produccion, idpozo, False)\n",
    "        # Outliers de petroleo\n",
    "        if (outliers['anomalo_pet'].any()):\n",
    "            meses_outliers = outliers[outliers['anomalo_pet'] == True] ['mes']\n",
    "            outliers_pet[idpozo] = meses_outliers.to_list()\n",
    "            \n",
    "        # Outliers de gas   \n",
    "        if (outliers['anomalo_gas'].any()):\n",
    "            meses_outliers = outliers[outliers['anomalo_gas'] == True] ['mes']\n",
    "            outliers_gas[idpozo] = meses_outliers.to_list()\n",
    "        \n",
    "    return outliers_pet, outliers_gas"
   ]
  },
  {
   "cell_type": "code",
   "execution_count": 6,
   "id": "7ac00c4f-d2c2-4a69-8824-9176a5d5519e",
   "metadata": {},
   "outputs": [
    {
     "data": {
      "text/plain": [
       "27715"
      ]
     },
     "execution_count": 6,
     "metadata": {},
     "output_type": "execute_result"
    }
   ],
   "source": [
    "len(produccion['idpozo'].unique())"
   ]
  },
  {
   "cell_type": "code",
   "execution_count": null,
   "id": "d96eba71-6dbf-40a7-a3fe-1d2e27d4bba9",
   "metadata": {},
   "outputs": [],
   "source": [
    "outliers_pet, outliers_gas = outliers(produccion,(0,27715))"
   ]
  },
  {
   "cell_type": "code",
   "execution_count": null,
   "id": "4097608d-7ce4-4d6a-b6c7-954bb2203114",
   "metadata": {},
   "outputs": [],
   "source": [
    "len(outliers_pet)"
   ]
  },
  {
   "cell_type": "code",
   "execution_count": null,
   "id": "36e9eeaa-1ce5-4db4-a286-ae3dcdbfe9cb",
   "metadata": {},
   "outputs": [],
   "source": [
    "len(outliers_gas)"
   ]
  },
  {
   "cell_type": "code",
   "execution_count": null,
   "id": "bf6bfc0a-5892-49b5-a69c-be15bddd199b",
   "metadata": {},
   "outputs": [],
   "source": [
    "meses_outliers_pet = 0\n",
    "meses_outliers_gas = 0\n",
    "\n",
    "for key in outliers_pet.keys():\n",
    "    meses_outliers_pet += len(outliers_pet[key])\n",
    "\n",
    "for key in outliers_gas.keys():\n",
    "    meses_outliers_gas += len(outliers_gas[key])\n",
    "\n",
    "meses_outliers_pet, meses_outliers_gas"
   ]
  },
  {
   "cell_type": "markdown",
   "id": "d529b29f-8a2b-4405-a116-f564c4eb46eb",
   "metadata": {},
   "source": [
    "# G)"
   ]
  },
  {
   "cell_type": "markdown",
   "id": "ad541a70-21f8-44b5-b14f-1bf0ed138eeb",
   "metadata": {},
   "source": [
    "## Comparación 2023"
   ]
  },
  {
   "cell_type": "code",
   "execution_count": null,
   "id": "4efd729f-07fb-4d15-acdd-e677c32617e7",
   "metadata": {},
   "outputs": [],
   "source": [
    "prod_provincias_pet = pd.read_csv(\"produccin-de-petrleo-promedio-diaria-por-provincia.csv\")\n",
    "prod_provincias_gas = pd.read_csv(\"produccin-de-gas-promedio-diaria-por-provincia.csv\")\n",
    "produccion23 = pd.read_csv(\"produccin-de-pozos-de-gas-y-petrleo-2023.csv\")"
   ]
  },
  {
   "cell_type": "code",
   "execution_count": null,
   "id": "c562509b-0c73-4936-b5e7-76d238080e08",
   "metadata": {},
   "outputs": [],
   "source": [
    "def compare_2023 (df24, df23, id_pozo, plot):\n",
    "    \n",
    "    # Producciones de 2023 y 2024 del pozo\n",
    "    prods24 = df24[df24['idpozo'] == id_pozo][['mes', 'prod_pet', 'prod_gas']].sort_values(by='mes').reset_index(drop=True)\n",
    "    prods23 = df23[df23['idpozo'] == id_pozo][['mes', 'prod_pet', 'prod_gas']].sort_values(by='mes').reset_index(drop=True)\n",
    "    \n",
    "    # Inicio columnas\n",
    "    prods24['anomalo_pet'] = False\n",
    "    prods24['anomalo_gas'] = False\n",
    "    \n",
    "    # Me quedo con los meses comunes\n",
    "    prods23 = prods23[prods23['mes'].isin(prods24['mes'])].reset_index(drop=True)\n",
    "    prods24 = prods24[prods24['mes'].isin(prods23['mes'])].reset_index(drop=True)\n",
    "    \n",
    "    if not (prods24.empty):\n",
    "        # Diferencias en produccion de petroleo entre años\n",
    "        prods24['diferences_pet'] = abs(prods24['prod_pet'].values-prods23['prod_pet'].values)\n",
    "        \n",
    "        # Busco valores muy altos\n",
    "        Q1 = np.percentile(prods24['diferences_pet'], 25)\n",
    "        Q3 = np.percentile(prods24['diferences_pet'], 75)\n",
    "        bigote_sup = Q3 + 1.5*(Q3-Q1)\n",
    "        bigote_inf = Q1 - 1.5*(Q3-Q1)\n",
    "        \n",
    "        # Filtro outliers\n",
    "        prods24['anomalo_pet'] = (prods24['diferences_pet'] > bigote_sup) | (prods24['diferences_pet'] < bigote_inf)\n",
    "        \n",
    "        # Ploteo\n",
    "        if (plot):\n",
    "            colores = ['red', 'orange', 'green']\n",
    "            condiciones = [(prods24['diferences_pet'] < bigote_inf) | (prods24['diferences_pet'] > bigote_sup),\n",
    "                           (prods24['diferences_pet'] >= bigote_inf) & (prods24['diferences_pet'] <= bigote_sup) & ((prods24['diferences_pet'] < Q1) | (prods24['diferences_pet'] > Q3)),\n",
    "                           (prods24['diferences_pet'] >= Q1) & (prods24['diferences_pet'] <= Q3)]\n",
    "            prods24['color'] = np.select(condiciones, colores, default='gray')\n",
    "            \n",
    "            fig, ax = plt.subplots(figsize=(7,4))\n",
    "            maxs = []\n",
    "            mins = []\n",
    "            for i in range (len(prods24['prod_pet'])):\n",
    "                maxs.append(max(prods24['prod_pet'][i], prods23['prod_pet'][i]))\n",
    "                mins.append(min(prods24['prod_pet'][i], prods23['prod_pet'][i]))\n",
    "            \n",
    "            ax.vlines(x=prods24['mes'], ymin=mins, ymax=maxs, colors=prods24['color'], linewidth=2)\n",
    "            ax.scatter(prods24['mes'], prods24['prod_pet'], color='black', alpha=1, s=100, label='2024')\n",
    "            ax.scatter(prods24['mes'], prods23['prod_pet'], color='black', alpha=0.5, s=100, label='2023')\n",
    "    \n",
    "            ax.grid(axis='y', linewidth=0.5, linestyle='--')\n",
    "            ax.legend()\n",
    "            ax.set(xticks=prods24['mes'])\n",
    "            ax.set_xlabel('Mes')\n",
    "            ax.set_ylabel(f'Producción de petróleo (m3)\\n (Pozo {id_pozo})')\n",
    "            \n",
    "        # Diferencias en produccion de gas entre años\n",
    "        prods24['diferences_gas'] = abs(prods24['prod_gas'].values-prods23['prod_gas'].values)\n",
    "        \n",
    "        # Busco valores muy altos\n",
    "        Q1 = np.percentile(prods24['diferences_gas'], 25)\n",
    "        Q3 = np.percentile(prods24['diferences_gas'], 75)\n",
    "        bigote_sup = Q3 + 1.5*(Q3-Q1)\n",
    "        bigote_inf = Q1 - 1.5*(Q3-Q1)\n",
    "        \n",
    "        # Filtro outliers\n",
    "        prods24['anomalo_gas'] = (prods24['diferences_gas'] > bigote_sup) | (prods24['diferences_gas'] < bigote_inf)\n",
    "        \n",
    "        # Ploteo\n",
    "        if (plot):\n",
    "            colores = ['red', 'orange', 'green']\n",
    "            condiciones = [(prods24['diferences_gas'] < bigote_inf) | (prods24['diferences_gas'] > bigote_sup),\n",
    "                           (prods24['diferences_gas'] >= bigote_inf) & (prods24['diferences_gas'] <= bigote_sup) & ((prods24['diferences_gas'] < Q1) | (prods24['diferences_gas'] > Q3)),\n",
    "                           (prods24['diferences_gas'] >= Q1) & (prods24['diferences_gas'] <= Q3)]\n",
    "            prods24['color'] = np.select(condiciones, colores, default='gray')\n",
    "            \n",
    "            fig, ax = plt.subplots(figsize=(7,4))\n",
    "            maxs = []\n",
    "            mins = []\n",
    "            for i in range (len(prods24['prod_gas'])):\n",
    "                maxs.append(max(prods24['prod_gas'][i], prods23['prod_gas'][i]))\n",
    "                mins.append(min(prods24['prod_gas'][i], prods23['prod_gas'][i]))\n",
    "            \n",
    "            ax.vlines(x=prods24['mes'], ymin=mins, ymax=maxs, colors=prods24['color'], linewidth=2)\n",
    "            ax.scatter(prods24['mes'], prods24['prod_gas'], color='black', alpha=1, s=100, label='2024')\n",
    "            ax.scatter(prods24['mes'], prods23['prod_gas'], color='black', alpha=0.5, s=100, label='2023')\n",
    "    \n",
    "            ax.grid(axis='y', linewidth=0.5, linestyle='--')\n",
    "            ax.legend()\n",
    "            ax.set(xticks=prods24['mes'])\n",
    "            ax.set_xlabel('Mes')\n",
    "            ax.set_ylabel(f'Producción de gas (mm3)\\n (Pozo {id_pozo})')\n",
    "\n",
    "    return prods24[['mes', 'anomalo_pet', 'anomalo_gas']]"
   ]
  },
  {
   "cell_type": "code",
   "execution_count": null,
   "id": "66848711-238c-4573-96a7-a8f734234af1",
   "metadata": {},
   "outputs": [],
   "source": [
    "compare_2023(produccion, produccion23, 164019, True)"
   ]
  },
  {
   "cell_type": "code",
   "execution_count": null,
   "id": "1faf9731-bbf0-4f56-a9cb-b7ac8f3d1784",
   "metadata": {},
   "outputs": [],
   "source": [
    "def outliers_comp23 (produccion, produccion23, rango):\n",
    "    outliers_pet = {}\n",
    "    outliers_gas = {}\n",
    "    ids = produccion['idpozo'].unique()\n",
    "    for i in range (rango[0], rango[1]):\n",
    "        idpozo = int(ids[i])\n",
    "        \n",
    "        # Outliers del pozo\n",
    "        outliers = compare_2023(produccion, produccion23, idpozo, False)\n",
    "        \n",
    "        # Checkeo dataframe no vacío\n",
    "        if not (outliers.empty):\n",
    "            \n",
    "            # Outliers de petroleo\n",
    "            if (outliers['anomalo_pet'].any()):\n",
    "                meses_outliers = outliers[outliers['anomalo_pet'] == True] ['mes']\n",
    "                outliers_pet[idpozo] = meses_outliers.to_list()\n",
    "                \n",
    "            # Outliers de gas   \n",
    "            if (outliers['anomalo_gas'].any()):\n",
    "                meses_outliers = outliers[outliers['anomalo_gas'] == True] ['mes']\n",
    "                outliers_gas[idpozo] = meses_outliers.to_list()\n",
    "        \n",
    "    return outliers_pet, outliers_gas"
   ]
  },
  {
   "cell_type": "code",
   "execution_count": null,
   "id": "e931afed-dbe5-46d8-a9b2-6357e07f07b9",
   "metadata": {},
   "outputs": [],
   "source": [
    "outliers_comp23_pet, outliers_comp23_gas = outliers_comp23(produccion, produccion23, (0,27715))"
   ]
  },
  {
   "cell_type": "code",
   "execution_count": null,
   "id": "816c1bed-324d-4086-a43d-06bb0ae83cb3",
   "metadata": {},
   "outputs": [],
   "source": [
    "len(outliers_comp23_pet)"
   ]
  },
  {
   "cell_type": "code",
   "execution_count": null,
   "id": "48791103-cf40-4230-9c98-de38e33499d9",
   "metadata": {},
   "outputs": [],
   "source": [
    "len(outliers_comp23_gas)"
   ]
  },
  {
   "cell_type": "code",
   "execution_count": null,
   "id": "9f381339-f587-4045-aadb-6f049bbfed0c",
   "metadata": {},
   "outputs": [],
   "source": [
    "meses_outliers_comp23_pet = 0\n",
    "meses_outliers_comp23_gas = 0\n",
    "\n",
    "for key in outliers_comp23_pet.keys():\n",
    "    meses_outliers_comp23_pet += len(outliers_comp23_pet[key])\n",
    "\n",
    "for key in outliers_comp23_gas.keys():\n",
    "    meses_outliers_comp23_gas += len(outliers_comp23_gas[key])\n",
    "\n",
    "meses_outliers_comp23_pet, meses_outliers_comp23_gas"
   ]
  },
  {
   "cell_type": "markdown",
   "id": "50d230cc-958d-41f8-9a58-1f769b469e9a",
   "metadata": {},
   "source": [
    "## Produccion por provincia"
   ]
  },
  {
   "cell_type": "code",
   "execution_count": null,
   "id": "4c981a5c-0a46-48e6-a59a-4d932dd62450",
   "metadata": {},
   "outputs": [],
   "source": [
    "import calendar"
   ]
  },
  {
   "cell_type": "code",
   "execution_count": null,
   "id": "1905699d-7931-4f22-b07d-b5eefa1cbd2b",
   "metadata": {},
   "outputs": [],
   "source": [
    "prod_provincias_pet.info(), prod_provincias_gas.info()"
   ]
  },
  {
   "cell_type": "code",
   "execution_count": null,
   "id": "096d17e8-c174-4b59-9323-525a06bdc796",
   "metadata": {},
   "outputs": [],
   "source": [
    "def produccion_provincias (produccion):\n",
    "    prod_provincias = sql^ \"\"\"\n",
    "                           SELECT provincia, mes, SUM(prod_pet) AS prod_pet, SUM(prod_pet) AS prod_gas\n",
    "                           FROM produccion\n",
    "                           GROUP BY provincia, mes\n",
    "                           ORDER BY provincia, mes\n",
    "                           \"\"\"\n",
    "    \n",
    "    for index in prod_provincias.index:\n",
    "        mes = prod_provincias.loc[index, 'mes']\n",
    "        prod_provincias.loc[index, 'prod_pet'] = prod_provincias.loc[index, 'prod_pet']/calendar.monthrange(2024, mes)[1]\n",
    "        prod_provincias.loc[index, 'prod_gas'] = prod_provincias.loc[index, 'prod_gas']/calendar.monthrange(2024, mes)[1]\n",
    "\n",
    "    prod_provincias.columns=['provincia', 'mes', 'prom_prod_pet_diaria', 'prom_prod_gas_diaria']\n",
    "    return prod_provincias"
   ]
  },
  {
   "cell_type": "code",
   "execution_count": null,
   "id": "5b666ae7-acf6-4858-a75b-a7efd6ab48f7",
   "metadata": {},
   "outputs": [],
   "source": [
    "prods_provincias =  produccion_provincias(produccion)"
   ]
  },
  {
   "cell_type": "code",
   "execution_count": null,
   "id": "05dc0518-28fb-4884-bcb7-a4511fd950ce",
   "metadata": {},
   "outputs": [],
   "source": [
    "prods_provincias.info()"
   ]
  },
  {
   "cell_type": "code",
   "execution_count": null,
   "id": "77217661-327d-4d34-8e97-29d231800b1b",
   "metadata": {},
   "outputs": [],
   "source": [
    "def compare_provincia (prods_provincias, prods_provincias_pet, prods_provincias_gas, provincia, plot):\n",
    "    \n",
    "    # Miramos años anteriores\n",
    "    provincias_no24_pet = prods_provincias_pet[prods_provincias_pet['anio'] != 2024]\n",
    "    provincias_no24_gas = prods_provincias_gas[prods_provincias_gas['anio'] != 2024]\n",
    "    \n",
    "    # Comparamos la provincia\n",
    "    prods_provincia = prods_provincias[prods_provincias['provincia'] == provincia].copy().reset_index(drop=True)\n",
    "    provincia_no24_pet = provincias_no24_pet[provincias_no24_pet['provincia'] == provincia]\n",
    "    provincia_no24_gas = provincias_no24_gas[provincias_no24_gas['provincia'] == provincia]\n",
    "    \n",
    "    # Hacemos promedios\n",
    "    promedios = pd.DataFrame(columns=['mes', 'promedio_pet', 'promedio_gas'])\n",
    "    for mes in sorted(provincia_no24_pet['mes'].unique()):\n",
    "        promedios.loc[promedios.shape[0], 'mes'] = mes\n",
    "        \n",
    "        # Promedio petroleo\n",
    "        prom_pet = np.mean(provincia_no24_pet[provincia_no24_pet['mes'] == mes]['produccion_petroleo_promedio_dia_m3'])\n",
    "        promedios.loc[promedios.shape[0]-1, 'promedio_pet'] = prom_pet\n",
    "\n",
    "        # Promedio gas\n",
    "        prom_gas = np.mean(provincia_no24_gas[provincia_no24_gas['mes'] == mes]['produccion_gas_promedio_dia_mm3'])\n",
    "        promedios.loc[promedios.shape[0]-1, 'promedio_gas'] = prom_gas\n",
    "    \n",
    "    # Inicio columnas\n",
    "    prods_provincia.loc[prods_provincia.index, 'anomalo_pet'] = False\n",
    "    prods_provincia.loc[prods_provincia.index, 'anomalo_gas'] = False\n",
    "\n",
    "    # Filtramos los meses en común\n",
    "    prods_provincia = prods_provincia[prods_provincia['mes'].isin(promedios['mes'])].reset_index(drop=True)\n",
    "    promedios = promedios[promedios['mes'].isin(prods_provincia['mes'])].reset_index(drop=True)\n",
    "\n",
    "    # Si el DataFrame no es vacío\n",
    "    if not (prods_provincia.empty):\n",
    "        \n",
    "        # Diferencias en produccion de petroleo entre años\n",
    "        prods_provincia['diferences_pet'] = abs(prods_provincia['prom_prod_pet_diaria'].values-promedios['promedio_pet'].values)\n",
    "        \n",
    "        # Busco valores anormales\n",
    "        Q1 = np.percentile(prods_provincia['diferences_pet'], 25)\n",
    "        Q3 = np.percentile(prods_provincia['diferences_pet'], 75)\n",
    "        bigote_sup = Q3 + 1.5*(Q3-Q1)\n",
    "        bigote_inf = Q1 - 1.5*(Q3-Q1)\n",
    "        \n",
    "        # Filtro outliers\n",
    "        prods_provincia['anomalo_pet'] = (prods_provincia['diferences_pet'] > bigote_sup) | (prods_provincia['diferences_pet'] < bigote_inf)\n",
    "        \n",
    "        # Ploteo\n",
    "        if (plot):\n",
    "\n",
    "            # Coloreo\n",
    "            colores = ['red', 'orange', 'green']\n",
    "            condiciones = [(prods_provincia['diferences_pet'] < bigote_inf) | (prods_provincia['diferences_pet'] > bigote_sup),\n",
    "                           (prods_provincia['diferences_pet'] >= bigote_inf) & (prods_provincia['diferences_pet'] <= bigote_sup) & ((prods_provincia['diferences_pet'] < Q1) | (prods_provincia['diferences_pet'] > Q3)),\n",
    "                           (prods_provincia['diferences_pet'] >= Q1) & (prods_provincia['diferences_pet'] <= Q3)]\n",
    "            prods_provincia['color'] = np.select(condiciones, colores, default='gray')\n",
    "\n",
    "            # Genero gráfico\n",
    "            fig, ax = plt.subplots(figsize=(8,4))\n",
    "\n",
    "            # Minimos y maximos para lineas verticales\n",
    "            maxs = []\n",
    "            mins = []\n",
    "            for i in range (len(prods_provincia['prom_prod_pet_diaria'])):\n",
    "                maxs.append(max(prods_provincia['prom_prod_pet_diaria'][i], promedios['promedio_pet'][i]))\n",
    "                mins.append(min(prods_provincia['prom_prod_pet_diaria'][i], promedios['promedio_pet'][i]))\n",
    "\n",
    "            # Dibujo puntos y lineas\n",
    "            ax.vlines(x=prods_provincia['mes'], ymin=mins, ymax=maxs, colors=prods_provincia['color'], linewidth=2)\n",
    "            ax.scatter(prods_provincia['mes'], prods_provincia['prom_prod_pet_diaria'], color='black', alpha=1, s=100, label='2024')\n",
    "            ax.scatter(promedios['mes'], promedios['promedio_pet'], color='black', alpha=0.5, s=100, label='Promedio mensual')\n",
    "\n",
    "            # Personalizo grafico\n",
    "            ax.grid(axis='y', linewidth=0.5, linestyle='--')\n",
    "            ax.legend()\n",
    "            ax.set(xticks=prods_provincia['mes'])\n",
    "            ax.set_xlabel('Mes')\n",
    "            ax.set_ylabel(f'Producción diaria de petróleo promedio (m3)\\n ({provincia})')\n",
    "\n",
    "        # Diferencias en produccion de petroleo entre años\n",
    "        prods_provincia['diferences_gas'] = abs(prods_provincia['prom_prod_gas_diaria'].values-promedios['promedio_gas'].values)\n",
    "        \n",
    "        # Busco valores muy altos\n",
    "        Q1 = np.percentile(prods_provincia['diferences_gas'], 25)\n",
    "        Q3 = np.percentile(prods_provincia['diferences_gas'], 75)\n",
    "        bigote_sup = Q3 + 1.5*(Q3-Q1)\n",
    "        bigote_inf = Q1 - 1.5*(Q3-Q1)\n",
    "        \n",
    "        # Filtro outliers\n",
    "        prods_provincia['anomalo_gas'] = (prods_provincia['diferences_gas'] > bigote_sup) | (prods_provincia['diferences_gas'] < bigote_inf)\n",
    "        \n",
    "        # Plot\n",
    "        if (plot):\n",
    "            \n",
    "            # Coloreo\n",
    "            colores = ['red', 'orange', 'green']\n",
    "            condiciones = [(prods_provincia['diferences_gas'] < bigote_inf) | (prods_provincia['diferences_gas'] > bigote_sup),\n",
    "                           (prods_provincia['diferences_gas'] >= bigote_inf) & (prods_provincia['diferences_gas'] <= bigote_sup) & ((prods_provincia['diferences_gas'] < Q1) | (prods_provincia['diferences_gas'] > Q3)),\n",
    "                           (prods_provincia['diferences_gas'] >= Q1) & (prods_provincia['diferences_gas'] <= Q3)]\n",
    "            prods_provincia['color'] = np.select(condiciones, colores, default='gray')\n",
    "\n",
    "            # Genero gráfico\n",
    "            fig, ax = plt.subplots(figsize=(8,4))\n",
    "\n",
    "            # Minimos y maximos para lineas verticales\n",
    "            maxs = []\n",
    "            mins = []\n",
    "            for i in range (len(prods_provincia['prom_prod_gas_diaria'])):\n",
    "                maxs.append(max(prods_provincia['prom_prod_gas_diaria'][i], promedios['promedio_gas'][i]))\n",
    "                mins.append(min(prods_provincia['prom_prod_gas_diaria'][i], promedios['promedio_gas'][i]))\n",
    "\n",
    "            # Dibujo puntos y lineas\n",
    "            ax.vlines(x=prods_provincia['mes'], ymin=mins, ymax=maxs, colors=prods_provincia['color'], linewidth=2)\n",
    "            ax.scatter(prods_provincia['mes'], prods_provincia['prom_prod_gas_diaria'], color='black', alpha=1, s=100, label='2024')\n",
    "            ax.scatter(promedios['mes'], promedios['promedio_gas'], color='black', alpha=0.5, s=100, label='Promedio mensual')\n",
    "\n",
    "            # Personalizo grafico\n",
    "            ax.grid(axis='y', linewidth=0.5, linestyle='--')\n",
    "            ax.legend()\n",
    "            ax.set(xticks=prods_provincia['mes'])\n",
    "            ax.set_xlabel('Mes')\n",
    "            ax.set_ylabel(f'Producción diaria de gas promedio (mm3)\\n ({provincia})')\n",
    "\n",
    "    return prods_provincia[['mes', 'anomalo_pet', 'anomalo_gas']]\n",
    "    "
   ]
  },
  {
   "cell_type": "code",
   "execution_count": null,
   "id": "b78bbe71-f7f4-43f9-888a-322f5c1084c5",
   "metadata": {},
   "outputs": [],
   "source": [
    "compare_provincia(prods_provincias, prod_provincias_pet, prod_provincias_gas, 'Santa Cruz', True)"
   ]
  },
  {
   "cell_type": "code",
   "execution_count": null,
   "id": "5802f5c9-2c0e-428a-b56d-45e41344087d",
   "metadata": {},
   "outputs": [],
   "source": [
    "def outliers_provincias (prods_provincias, prods_provincias_pet, prods_provincias_gas):\n",
    "    outliers_pet = {}\n",
    "    outliers_gas = {}\n",
    "    provincias = prods_provincias['provincia'].unique()\n",
    "    for provincia in provincias:\n",
    "        \n",
    "        # Outliers del pozo\n",
    "        outliers = compare_provincia(prods_provincias, prods_provincias_pet, prods_provincias_gas, provincia, False)\n",
    "        \n",
    "        # Checkeo dataframe no vacío\n",
    "        if not (outliers.empty):\n",
    "            \n",
    "            # Outliers de petroleo\n",
    "            if (outliers['anomalo_pet'].any()):\n",
    "                meses_outliers = outliers[outliers['anomalo_pet'] == True]['mes']\n",
    "                outliers_pet[provincia] = meses_outliers.to_list()\n",
    "                \n",
    "            # Outliers de gas   \n",
    "            if (outliers['anomalo_gas'].any()):\n",
    "                meses_outliers = outliers[outliers['anomalo_gas'] == True]['mes']\n",
    "                outliers_gas[provincia] = meses_outliers.to_list()\n",
    "        \n",
    "    return outliers_pet, outliers_gas"
   ]
  },
  {
   "cell_type": "code",
   "execution_count": null,
   "id": "d76869d7-f20f-41d7-a572-ce9a8a204d7c",
   "metadata": {},
   "outputs": [],
   "source": [
    "outliers_provincias_pet, outliers_provincias_gas = outliers_provincias(prods_provincias, prod_provincias_pet, prod_provincias_gas)"
   ]
  },
  {
   "cell_type": "code",
   "execution_count": null,
   "id": "324c4151-293e-45df-924e-fccb60b88e6a",
   "metadata": {},
   "outputs": [],
   "source": [
    "outliers_provincias_pet"
   ]
  },
  {
   "cell_type": "code",
   "execution_count": null,
   "id": "bfebd7a8-32ad-4627-9242-158b6099673d",
   "metadata": {},
   "outputs": [],
   "source": [
    "outliers_provincias_gas"
   ]
  },
  {
   "cell_type": "code",
   "execution_count": null,
   "id": "5d484582-3ebb-4c5e-9bdd-f599e7659d91",
   "metadata": {},
   "outputs": [],
   "source": [
    "meses_outliers_provincias_pet = 0\n",
    "meses_outliers_provincias_gas = 0\n",
    "\n",
    "for key in outliers_provincias_pet.keys():\n",
    "    meses_outliers_provincias_pet += len(outliers_provincias_pet[key])\n",
    "\n",
    "for key in outliers_provincias_gas.keys():\n",
    "    meses_outliers_provincias_gas += len(outliers_provincias_gas[key])\n",
    "\n",
    "meses_outliers_provincias_pet, meses_outliers_provincias_gas"
   ]
  },
  {
   "cell_type": "code",
   "execution_count": null,
   "id": "f8bd3776-2473-4a13-af95-81187e282655",
   "metadata": {},
   "outputs": [],
   "source": [
    "def outliers_petroleo (pozos, outliers, outliers_comp23, outliers_provincias):\n",
    "    idpozos = pd.Series((list(outliers.keys()) + list(outliers_comp23.keys()))).unique()\n",
    "    pozos_outliers = {}\n",
    "    for pozoid in idpozos:\n",
    "        \n",
    "        # Informacion pozo\n",
    "        provincia = pozos[pozos['idpozo'] == pozoid]['provincia'].iloc[0]\n",
    "        meses = []\n",
    "        \n",
    "        # Meses outliers \n",
    "        if pozoid in outliers.keys():\n",
    "            meses += outliers[pozoid]\n",
    "            \n",
    "        # Meses outliers (comparado 2023)\n",
    "        if pozoid in outliers_comp23.keys():\n",
    "            meses += outliers_comp23[pozoid]\n",
    "\n",
    "        # Verifico que no se deba a una anomalia general\n",
    "        if (len(meses) > 0):\n",
    "            for mes in meses:\n",
    "                if provincia in outliers_provincias.keys():\n",
    "                    if not (mes in outliers_provincias[provincia]):\n",
    "                        meses.append(mes)\n",
    "\n",
    "        pozos_outliers[pozoid] = meses\n",
    "\n",
    "    return pozos_outliers"
   ]
  },
  {
   "cell_type": "code",
   "execution_count": null,
   "id": "0017e763-0aef-46e8-baf5-c2b01b43f355",
   "metadata": {},
   "outputs": [],
   "source": [
    "pozos_outliers_pet = outliers_petroleo(pozos, outliers_pet, outliers_comp23_pet, outliers_provincias_pet)"
   ]
  },
  {
   "cell_type": "code",
   "execution_count": null,
   "id": "232bcf82-020f-4562-af8b-c38418803a97",
   "metadata": {},
   "outputs": [],
   "source": [
    "len(pozos_outliers_pet)"
   ]
  },
  {
   "cell_type": "code",
   "execution_count": null,
   "id": "ff22fc08-3a15-4f0a-bc3b-a21c4afcb44f",
   "metadata": {},
   "outputs": [],
   "source": []
  }
 ],
 "metadata": {
  "kernelspec": {
   "display_name": "Python 3 (ipykernel)",
   "language": "python",
   "name": "python3"
  },
  "language_info": {
   "codemirror_mode": {
    "name": "ipython",
    "version": 3
   },
   "file_extension": ".py",
   "mimetype": "text/x-python",
   "name": "python",
   "nbconvert_exporter": "python",
   "pygments_lexer": "ipython3",
   "version": "3.11.9"
  }
 },
 "nbformat": 4,
 "nbformat_minor": 5
}
